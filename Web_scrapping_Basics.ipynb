{
  "cells": [
    {
      "cell_type": "code",
      "execution_count": null,
      "metadata": {
        "id": "4RruZzQ6f_YX"
      },
      "outputs": [],
      "source": [
        "from bs4 import BeautifulSoup"
      ]
    },
    {
      "cell_type": "code",
      "execution_count": null,
      "metadata": {
        "id": "5lBw_pkIgXrd"
      },
      "outputs": [],
      "source": [
        "html_doc = '''\n",
        "<!DOCTYPE html>\n",
        "<html>\n",
        "\n",
        "<head>\n",
        "<title>My first website</title>\n",
        "</head>\n",
        "\n",
        "<body>\n",
        "<p class=\"title\">Prakash chandra Prasad</p>\n",
        "<p class=\"info\">My social link is as follows: </p>\n",
        "<a href=\"https://www.facebook.com/prakash.chandra.58173000/\" id=\"link1\">Facebook</a>\n",
        "<a href=\"https://www.linkedin.com/in/prakash-chandra-prasad-2b8535143/\" id=\"link2\">LinkedIn</a>\n",
        "<p class=\"info\">I have completed Masters degree</p>\n",
        "</body>\n",
        "\n",
        "</html>\n",
        "'''"
      ]
    },
    {
      "cell_type": "code",
      "execution_count": null,
      "metadata": {
        "id": "FPAF_Hby6ZOf"
      },
      "outputs": [],
      "source": [
        "bs = BeautifulSoup(html_doc,\"html.parser\")"
      ]
    },
    {
      "cell_type": "code",
      "execution_count": null,
      "metadata": {
        "colab": {
          "base_uri": "https://localhost:8080/"
        },
        "id": "X7im4HLz6m3R",
        "outputId": "ce5d11f7-7435-44bd-98d1-878c76f0d25b"
      },
      "outputs": [
        {
          "output_type": "stream",
          "name": "stdout",
          "text": [
            "<!DOCTYPE html>\n",
            "<html>\n",
            " <head>\n",
            "  <title>\n",
            "   My first website\n",
            "  </title>\n",
            " </head>\n",
            " <body>\n",
            "  <p class=\"title\">\n",
            "   Prakash chandra Prasad\n",
            "  </p>\n",
            "  <p class=\"info\">\n",
            "   My social link is as follows:\n",
            "  </p>\n",
            "  <a href=\"https://www.facebook.com/prakash.chandra.58173000/\" id=\"link1\">\n",
            "   Facebook\n",
            "  </a>\n",
            "  <a href=\"https://www.linkedin.com/in/prakash-chandra-prasad-2b8535143/\" id=\"link2\">\n",
            "   LinkedIn\n",
            "  </a>\n",
            "  <p class=\"info\">\n",
            "   I have completed Masters degree\n",
            "  </p>\n",
            " </body>\n",
            "</html>\n",
            "\n"
          ]
        }
      ],
      "source": [
        "print(bs.prettify())"
      ]
    },
    {
      "cell_type": "code",
      "execution_count": null,
      "metadata": {
        "colab": {
          "base_uri": "https://localhost:8080/"
        },
        "id": "8MBQ_UOC6uhH",
        "outputId": "e029b27b-770c-4c9c-a21b-c9b385d0cee3"
      },
      "outputs": [
        {
          "output_type": "execute_result",
          "data": {
            "text/plain": [
              "<title>My first website</title>"
            ]
          },
          "metadata": {},
          "execution_count": 242
        }
      ],
      "source": [
        "bs.title"
      ]
    },
    {
      "cell_type": "code",
      "execution_count": null,
      "metadata": {
        "colab": {
          "base_uri": "https://localhost:8080/",
          "height": 36
        },
        "id": "f6iOfYdn-86z",
        "outputId": "abaa1e22-5ba4-4631-a5c5-2580f2350cd0"
      },
      "outputs": [
        {
          "output_type": "execute_result",
          "data": {
            "application/vnd.google.colaboratory.intrinsic+json": {
              "type": "string"
            },
            "text/plain": [
              "'My first website'"
            ]
          },
          "metadata": {},
          "execution_count": 243
        }
      ],
      "source": [
        "bs.title.text"
      ]
    },
    {
      "cell_type": "code",
      "execution_count": null,
      "metadata": {
        "colab": {
          "base_uri": "https://localhost:8080/"
        },
        "id": "qiJyh1G2_At7",
        "outputId": "ac4f8636-bafb-4828-bbd5-59c3b12bfb86"
      },
      "outputs": [
        {
          "output_type": "execute_result",
          "data": {
            "text/plain": [
              "<head>\n",
              "<title>My first website</title>\n",
              "</head>"
            ]
          },
          "metadata": {},
          "execution_count": 244
        }
      ],
      "source": [
        "bs.title.parent"
      ]
    },
    {
      "cell_type": "code",
      "execution_count": null,
      "metadata": {
        "colab": {
          "base_uri": "https://localhost:8080/",
          "height": 36
        },
        "id": "Aj-dhVJc_GkE",
        "outputId": "ffc6a797-267a-423d-a947-1416b4fffa61"
      },
      "outputs": [
        {
          "output_type": "execute_result",
          "data": {
            "application/vnd.google.colaboratory.intrinsic+json": {
              "type": "string"
            },
            "text/plain": [
              "'head'"
            ]
          },
          "metadata": {},
          "execution_count": 245
        }
      ],
      "source": [
        "bs.title.parent.name"
      ]
    },
    {
      "cell_type": "code",
      "execution_count": null,
      "metadata": {
        "colab": {
          "base_uri": "https://localhost:8080/"
        },
        "id": "73jCuGN__LRp",
        "outputId": "fbb1b4cf-5069-4b01-d282-e533b0ef21e7"
      },
      "outputs": [
        {
          "output_type": "execute_result",
          "data": {
            "text/plain": [
              "<p class=\"title\">Prakash chandra Prasad</p>"
            ]
          },
          "metadata": {},
          "execution_count": 246
        }
      ],
      "source": [
        "bs.p"
      ]
    },
    {
      "cell_type": "code",
      "execution_count": null,
      "metadata": {
        "colab": {
          "base_uri": "https://localhost:8080/"
        },
        "id": "bd-VCGag_Pxl",
        "outputId": "a365d03f-083c-4284-9034-8017c45e9e55"
      },
      "outputs": [
        {
          "output_type": "execute_result",
          "data": {
            "text/plain": [
              "[<p class=\"title\">Prakash chandra Prasad</p>,\n",
              " <p class=\"info\">My social link is as follows: </p>,\n",
              " <p class=\"info\">I have completed Masters degree</p>]"
            ]
          },
          "metadata": {},
          "execution_count": 247
        }
      ],
      "source": [
        "bs.find_all(\"p\")"
      ]
    },
    {
      "cell_type": "code",
      "execution_count": null,
      "metadata": {
        "colab": {
          "base_uri": "https://localhost:8080/"
        },
        "id": "4uFb-hJu_Uj2",
        "outputId": "11765358-30d7-4b11-fd99-38cc3dba8320"
      },
      "outputs": [
        {
          "output_type": "execute_result",
          "data": {
            "text/plain": [
              "<a href=\"https://www.facebook.com/prakash.chandra.58173000/\" id=\"link1\">Facebook</a>"
            ]
          },
          "metadata": {},
          "execution_count": 248
        }
      ],
      "source": [
        "bs.a"
      ]
    },
    {
      "cell_type": "code",
      "execution_count": null,
      "metadata": {
        "colab": {
          "base_uri": "https://localhost:8080/"
        },
        "id": "f6xSd9nq_cYp",
        "outputId": "313cf3f3-7b3d-4b1a-bfd7-1993efee5abc"
      },
      "outputs": [
        {
          "output_type": "execute_result",
          "data": {
            "text/plain": [
              "[<p class=\"title\">Prakash chandra Prasad</p>,\n",
              " <p class=\"info\">My social link is as follows: </p>,\n",
              " <p class=\"info\">I have completed Masters degree</p>]"
            ]
          },
          "metadata": {},
          "execution_count": 249
        }
      ],
      "source": [
        "bs.find_all(\"p\")"
      ]
    },
    {
      "cell_type": "code",
      "execution_count": null,
      "metadata": {
        "colab": {
          "base_uri": "https://localhost:8080/"
        },
        "id": "KXKMbPnb_fEQ",
        "outputId": "ffdf8296-2999-45ac-d640-95f44e4e4bac"
      },
      "outputs": [
        {
          "output_type": "execute_result",
          "data": {
            "text/plain": [
              "<a href=\"https://www.facebook.com/prakash.chandra.58173000/\" id=\"link1\">Facebook</a>"
            ]
          },
          "metadata": {},
          "execution_count": 250
        }
      ],
      "source": [
        "bs.find(id=\"link1\")"
      ]
    },
    {
      "cell_type": "code",
      "execution_count": null,
      "metadata": {
        "colab": {
          "base_uri": "https://localhost:8080/"
        },
        "id": "7dEFTkXD_lPL",
        "outputId": "17b8c49f-e363-48e4-b7c0-7a31d4482226"
      },
      "outputs": [
        {
          "output_type": "execute_result",
          "data": {
            "text/plain": [
              "<a href=\"https://www.linkedin.com/in/prakash-chandra-prasad-2b8535143/\" id=\"link2\">LinkedIn</a>"
            ]
          },
          "metadata": {},
          "execution_count": 251
        }
      ],
      "source": [
        "bs.find(id=\"link2\")"
      ]
    },
    {
      "cell_type": "code",
      "execution_count": null,
      "metadata": {
        "id": "2mFMlsRH_o4n"
      },
      "outputs": [],
      "source": [
        "a_tags = bs.find_all(\"a\")"
      ]
    },
    {
      "cell_type": "code",
      "execution_count": null,
      "metadata": {
        "colab": {
          "base_uri": "https://localhost:8080/"
        },
        "id": "YovCmiUb_vi7",
        "outputId": "98a2bb8b-ad94-45c6-a3d4-521ce0188fd4"
      },
      "outputs": [
        {
          "output_type": "stream",
          "name": "stdout",
          "text": [
            "https://www.facebook.com/prakash.chandra.58173000/\n",
            "https://www.linkedin.com/in/prakash-chandra-prasad-2b8535143/\n"
          ]
        }
      ],
      "source": [
        "for a in a_tags:\n",
        "  print(a['href'])"
      ]
    },
    {
      "cell_type": "code",
      "execution_count": null,
      "metadata": {
        "colab": {
          "base_uri": "https://localhost:8080/"
        },
        "id": "vqQYV6M7_y-F",
        "outputId": "9be32229-7839-4c21-ecb5-1389a5728017"
      },
      "outputs": [
        {
          "output_type": "stream",
          "name": "stdout",
          "text": [
            "link1\n",
            "link2\n"
          ]
        }
      ],
      "source": [
        "for a in a_tags:\n",
        "  print(a['id'])"
      ]
    },
    {
      "cell_type": "markdown",
      "metadata": {
        "id": "oub3mWCE_7cW"
      },
      "source": [
        "Extract all text from a web page"
      ]
    },
    {
      "cell_type": "code",
      "execution_count": null,
      "metadata": {
        "id": "haS5f8C0_3cq"
      },
      "outputs": [],
      "source": [
        "texts = bs.get_text()"
      ]
    },
    {
      "cell_type": "code",
      "execution_count": null,
      "metadata": {
        "colab": {
          "base_uri": "https://localhost:8080/"
        },
        "id": "TysCjMCv___G",
        "outputId": "34d726b4-2b57-42f9-9b32-ef2da68afd85"
      },
      "outputs": [
        {
          "output_type": "stream",
          "name": "stdout",
          "text": [
            "\n",
            "\n",
            "\n",
            "\n",
            "My first website\n",
            "\n",
            "\n",
            "Prakash chandra Prasad\n",
            "My social link is as follows: \n",
            "Facebook\n",
            "LinkedIn\n",
            "I have completed Masters degree\n",
            "\n",
            "\n",
            "\n"
          ]
        }
      ],
      "source": [
        "print(texts)"
      ]
    },
    {
      "cell_type": "markdown",
      "metadata": {
        "id": "6UpRGVcWTLjG"
      },
      "source": [
        "Tag Name"
      ]
    },
    {
      "cell_type": "code",
      "execution_count": null,
      "metadata": {
        "id": "plPH8UqKACFt"
      },
      "outputs": [],
      "source": [
        "html_string = \"<h1 class='test'>Testing tags</h1>\""
      ]
    },
    {
      "cell_type": "code",
      "execution_count": null,
      "metadata": {
        "colab": {
          "base_uri": "https://localhost:8080/",
          "height": 36
        },
        "id": "lBRWcoYETgQ8",
        "outputId": "a5761091-88c6-401c-e661-dc5878b64141"
      },
      "outputs": [
        {
          "output_type": "execute_result",
          "data": {
            "application/vnd.google.colaboratory.intrinsic+json": {
              "type": "string"
            },
            "text/plain": [
              "\"<h1 class='test'>Testing tags</h1>\""
            ]
          },
          "metadata": {},
          "execution_count": 258
        }
      ],
      "source": [
        "html_string"
      ]
    },
    {
      "cell_type": "code",
      "execution_count": null,
      "metadata": {
        "id": "RKQKSaUaThaZ"
      },
      "outputs": [],
      "source": [
        "soup = BeautifulSoup(html_string,\"html.parser\")"
      ]
    },
    {
      "cell_type": "code",
      "execution_count": null,
      "metadata": {
        "colab": {
          "base_uri": "https://localhost:8080/"
        },
        "id": "-M8ONyVgTlvX",
        "outputId": "e1c97674-4fc4-4ddf-dd44-1018a85ef769"
      },
      "outputs": [
        {
          "output_type": "execute_result",
          "data": {
            "text/plain": [
              "<h1 class=\"test\">Testing tags</h1>"
            ]
          },
          "metadata": {},
          "execution_count": 260
        }
      ],
      "source": [
        "soup"
      ]
    },
    {
      "cell_type": "code",
      "execution_count": null,
      "metadata": {
        "colab": {
          "base_uri": "https://localhost:8080/"
        },
        "id": "zWqGV05fTmtG",
        "outputId": "b231824b-5b05-401a-bf91-6e50940b0c73"
      },
      "outputs": [
        {
          "output_type": "execute_result",
          "data": {
            "text/plain": [
              "<h1 class=\"test\">Testing tags</h1>"
            ]
          },
          "metadata": {},
          "execution_count": 261
        }
      ],
      "source": [
        "soup.h1"
      ]
    },
    {
      "cell_type": "code",
      "execution_count": null,
      "metadata": {
        "colab": {
          "base_uri": "https://localhost:8080/",
          "height": 36
        },
        "id": "x-Dc3cYqToPB",
        "outputId": "7c2c52a0-7ffe-4b33-c343-6dba99d833d9"
      },
      "outputs": [
        {
          "output_type": "execute_result",
          "data": {
            "application/vnd.google.colaboratory.intrinsic+json": {
              "type": "string"
            },
            "text/plain": [
              "'h1'"
            ]
          },
          "metadata": {},
          "execution_count": 262
        }
      ],
      "source": [
        "soup.h1.name"
      ]
    },
    {
      "cell_type": "markdown",
      "metadata": {
        "id": "iR91DM5LT4LE"
      },
      "source": [
        "Accessing tag attributes"
      ]
    },
    {
      "cell_type": "code",
      "execution_count": null,
      "metadata": {
        "id": "xO44vpkeTtdH"
      },
      "outputs": [],
      "source": [
        "html_string = \"<p id='test'>Testing attributes</p>\""
      ]
    },
    {
      "cell_type": "code",
      "execution_count": null,
      "metadata": {
        "id": "GRqW4PtUT_Gb"
      },
      "outputs": [],
      "source": [
        "soup = BeautifulSoup(html_string,'html.parser')"
      ]
    },
    {
      "cell_type": "code",
      "execution_count": null,
      "metadata": {
        "colab": {
          "base_uri": "https://localhost:8080/"
        },
        "id": "kiL4ezwYUCyI",
        "outputId": "9baf718b-68c5-4bf9-cfba-f8a16f8b1608"
      },
      "outputs": [
        {
          "output_type": "execute_result",
          "data": {
            "text/plain": [
              "<p id=\"test\">Testing attributes</p>"
            ]
          },
          "metadata": {},
          "execution_count": 265
        }
      ],
      "source": [
        "soup.p"
      ]
    },
    {
      "cell_type": "code",
      "execution_count": null,
      "metadata": {
        "colab": {
          "base_uri": "https://localhost:8080/",
          "height": 36
        },
        "id": "otB80PFvUEjE",
        "outputId": "304faf57-b081-43a9-aeba-54ba1b1fe294"
      },
      "outputs": [
        {
          "output_type": "execute_result",
          "data": {
            "application/vnd.google.colaboratory.intrinsic+json": {
              "type": "string"
            },
            "text/plain": [
              "'test'"
            ]
          },
          "metadata": {},
          "execution_count": 266
        }
      ],
      "source": [
        "soup.p['id']"
      ]
    },
    {
      "cell_type": "code",
      "execution_count": null,
      "metadata": {
        "colab": {
          "base_uri": "https://localhost:8080/"
        },
        "id": "QMPL5opEUHX1",
        "outputId": "93c0f26e-ab17-4116-e67a-1bdd140ad78d"
      },
      "outputs": [
        {
          "output_type": "execute_result",
          "data": {
            "text/plain": [
              "{'id': 'test'}"
            ]
          },
          "metadata": {},
          "execution_count": 267
        }
      ],
      "source": [
        "soup.p.attrs"
      ]
    },
    {
      "cell_type": "markdown",
      "metadata": {
        "id": "N0H_ZSWAUaxy"
      },
      "source": [
        "Multi-valued attributes"
      ]
    },
    {
      "cell_type": "code",
      "execution_count": null,
      "metadata": {
        "id": "R_OtnD5nUPC4"
      },
      "outputs": [],
      "source": [
        "html_string = \"<h2 class='single'>testing single attributes</h2>\""
      ]
    },
    {
      "cell_type": "code",
      "execution_count": null,
      "metadata": {
        "id": "Mo1CWSTgUqyz"
      },
      "outputs": [],
      "source": [
        "soup = BeautifulSoup(html_string,\"html.parser\")"
      ]
    },
    {
      "cell_type": "code",
      "execution_count": null,
      "metadata": {
        "colab": {
          "base_uri": "https://localhost:8080/"
        },
        "id": "rJizFZxNUuyY",
        "outputId": "8ba729fb-edc3-4ff4-b652-576026ea25b8"
      },
      "outputs": [
        {
          "output_type": "execute_result",
          "data": {
            "text/plain": [
              "{'class': ['single']}"
            ]
          },
          "metadata": {},
          "execution_count": 270
        }
      ],
      "source": [
        "soup.h2.attrs"
      ]
    },
    {
      "cell_type": "code",
      "execution_count": null,
      "metadata": {
        "id": "5zd7O6h-UwzZ"
      },
      "outputs": [],
      "source": [
        "html_string = \"<h2 class='single double'>testing single attributes</h2>\"\n",
        "soup = BeautifulSoup(html_string,\"html.parser\")"
      ]
    },
    {
      "cell_type": "code",
      "execution_count": null,
      "metadata": {
        "colab": {
          "base_uri": "https://localhost:8080/"
        },
        "id": "xChKAOJGU7ru",
        "outputId": "3a35afce-9108-4272-c0e4-31162329aa93"
      },
      "outputs": [
        {
          "output_type": "execute_result",
          "data": {
            "text/plain": [
              "{'class': ['single', 'double']}"
            ]
          },
          "metadata": {},
          "execution_count": 272
        }
      ],
      "source": [
        "soup.h2.attrs"
      ]
    },
    {
      "cell_type": "markdown",
      "metadata": {
        "id": "CL68zQhpVZ8K"
      },
      "source": [
        "comment line"
      ]
    },
    {
      "cell_type": "code",
      "execution_count": null,
      "metadata": {
        "id": "4KLAN2a-U9TM"
      },
      "outputs": [],
      "source": [
        "comment = \"<b><!--This is a comment line--></b>\""
      ]
    },
    {
      "cell_type": "code",
      "execution_count": null,
      "metadata": {
        "id": "fL5MpS77VmRl"
      },
      "outputs": [],
      "source": [
        "soup = BeautifulSoup(comment,\"html.parser\")"
      ]
    },
    {
      "cell_type": "code",
      "execution_count": null,
      "metadata": {
        "colab": {
          "base_uri": "https://localhost:8080/",
          "height": 36
        },
        "id": "MHFbe8FrVptC",
        "outputId": "fcd43749-4e69-4376-bb7d-12c479079e9d"
      },
      "outputs": [
        {
          "output_type": "execute_result",
          "data": {
            "application/vnd.google.colaboratory.intrinsic+json": {
              "type": "string"
            },
            "text/plain": [
              "'This is a comment line'"
            ]
          },
          "metadata": {},
          "execution_count": 275
        }
      ],
      "source": [
        "soup.b.string"
      ]
    },
    {
      "cell_type": "markdown",
      "metadata": {
        "id": "ZppbciY3WT2o"
      },
      "source": [
        "NAVIGATING THE TREE"
      ]
    },
    {
      "cell_type": "code",
      "execution_count": null,
      "metadata": {
        "colab": {
          "base_uri": "https://localhost:8080/",
          "height": 90
        },
        "id": "j5-jbrl6VrrC",
        "outputId": "fce57e96-290b-4a61-864a-49dd18b2a5e2"
      },
      "outputs": [
        {
          "output_type": "execute_result",
          "data": {
            "application/vnd.google.colaboratory.intrinsic+json": {
              "type": "string"
            },
            "text/plain": [
              "'\\n<!DOCTYPE html>\\n<html>\\n\\n<head>\\n<title>My first website</title>\\n</head>\\n\\n<body>\\n<p class=\"title\">Prakash chandra Prasad</p>\\n<p class=\"info\">My social link is as follows: </p>\\n<a href=\"https://www.facebook.com/prakash.chandra.58173000/\" id=\"link1\">Facebook</a>\\n<a href=\"https://www.linkedin.com/in/prakash-chandra-prasad-2b8535143/\" id=\"link2\">LinkedIn</a>\\n<p class=\"info\">I have completed Masters degree</p>\\n</body>\\n\\n</html>\\n'"
            ]
          },
          "metadata": {},
          "execution_count": 276
        }
      ],
      "source": [
        "html_doc"
      ]
    },
    {
      "cell_type": "code",
      "execution_count": null,
      "metadata": {
        "id": "6jpM1uc5Wcns"
      },
      "outputs": [],
      "source": [
        "soup = BeautifulSoup(html_doc,\"html.parser\")"
      ]
    },
    {
      "cell_type": "code",
      "execution_count": null,
      "metadata": {
        "colab": {
          "base_uri": "https://localhost:8080/"
        },
        "id": "8XSPbhtfWguu",
        "outputId": "759154f8-a61e-4090-d204-b301f27a0605"
      },
      "outputs": [
        {
          "output_type": "execute_result",
          "data": {
            "text/plain": [
              "<head>\n",
              "<title>My first website</title>\n",
              "</head>"
            ]
          },
          "metadata": {},
          "execution_count": 278
        }
      ],
      "source": [
        "soup.head"
      ]
    },
    {
      "cell_type": "code",
      "execution_count": null,
      "metadata": {
        "colab": {
          "base_uri": "https://localhost:8080/"
        },
        "id": "PU5GJCICWkbw",
        "outputId": "80237634-2fec-4ed8-9d02-c3bf4b2a25fa"
      },
      "outputs": [
        {
          "output_type": "execute_result",
          "data": {
            "text/plain": [
              "<title>My first website</title>"
            ]
          },
          "metadata": {},
          "execution_count": 279
        }
      ],
      "source": [
        "soup.title"
      ]
    },
    {
      "cell_type": "code",
      "execution_count": null,
      "metadata": {
        "colab": {
          "base_uri": "https://localhost:8080/",
          "height": 36
        },
        "id": "zNGD8gZTWmZm",
        "outputId": "c19bcc86-43a8-4e7a-e250-4988f1453b0a"
      },
      "outputs": [
        {
          "output_type": "execute_result",
          "data": {
            "application/vnd.google.colaboratory.intrinsic+json": {
              "type": "string"
            },
            "text/plain": [
              "'My first website'"
            ]
          },
          "metadata": {},
          "execution_count": 280
        }
      ],
      "source": [
        "soup.title.text"
      ]
    },
    {
      "cell_type": "code",
      "execution_count": null,
      "metadata": {
        "colab": {
          "base_uri": "https://localhost:8080/"
        },
        "id": "apVDMPpyWpEz",
        "outputId": "f5d78169-ee07-47c4-8b1c-8cf5d807c487"
      },
      "outputs": [
        {
          "output_type": "execute_result",
          "data": {
            "text/plain": [
              "<body>\n",
              "<p class=\"title\">Prakash chandra Prasad</p>\n",
              "<p class=\"info\">My social link is as follows: </p>\n",
              "<a href=\"https://www.facebook.com/prakash.chandra.58173000/\" id=\"link1\">Facebook</a>\n",
              "<a href=\"https://www.linkedin.com/in/prakash-chandra-prasad-2b8535143/\" id=\"link2\">LinkedIn</a>\n",
              "<p class=\"info\">I have completed Masters degree</p>\n",
              "</body>"
            ]
          },
          "metadata": {},
          "execution_count": 281
        }
      ],
      "source": [
        "soup.body"
      ]
    },
    {
      "cell_type": "code",
      "execution_count": null,
      "metadata": {
        "colab": {
          "base_uri": "https://localhost:8080/"
        },
        "id": "Ek0QF22jWqmN",
        "outputId": "56e6970b-4bc4-4fe6-83bf-f5c8c79acbfd"
      },
      "outputs": [
        {
          "output_type": "execute_result",
          "data": {
            "text/plain": [
              "<p class=\"title\">Prakash chandra Prasad</p>"
            ]
          },
          "metadata": {},
          "execution_count": 282
        }
      ],
      "source": [
        "soup.body.p"
      ]
    },
    {
      "cell_type": "code",
      "execution_count": null,
      "metadata": {
        "colab": {
          "base_uri": "https://localhost:8080/"
        },
        "id": "7zFF_ImmWvG-",
        "outputId": "51eb4369-e533-49b3-b5a6-6a1cc651aa2e"
      },
      "outputs": [
        {
          "output_type": "execute_result",
          "data": {
            "text/plain": [
              "<p class=\"title\">Prakash chandra Prasad</p>"
            ]
          },
          "metadata": {},
          "execution_count": 283
        }
      ],
      "source": [
        "soup.p"
      ]
    },
    {
      "cell_type": "code",
      "execution_count": null,
      "metadata": {
        "colab": {
          "base_uri": "https://localhost:8080/"
        },
        "id": "4Nwz6q5dW52Z",
        "outputId": "614d6aff-26a4-4dcb-96c7-881b1ecb9466"
      },
      "outputs": [
        {
          "output_type": "execute_result",
          "data": {
            "text/plain": [
              "<a href=\"https://www.facebook.com/prakash.chandra.58173000/\" id=\"link1\">Facebook</a>"
            ]
          },
          "metadata": {},
          "execution_count": 284
        }
      ],
      "source": [
        "soup.a"
      ]
    },
    {
      "cell_type": "markdown",
      "metadata": {
        "id": "K0fbpO8zXvpr"
      },
      "source": [
        "A tag’s children are available in a list called .contents:"
      ]
    },
    {
      "cell_type": "code",
      "execution_count": null,
      "metadata": {
        "id": "OPiJuarYW7vU"
      },
      "outputs": [],
      "source": [
        "head_tag = soup.head"
      ]
    },
    {
      "cell_type": "code",
      "execution_count": null,
      "metadata": {
        "id": "wdz-58Q6XyUr",
        "colab": {
          "base_uri": "https://localhost:8080/"
        },
        "outputId": "acc7d3de-b657-4f63-ca76-c5c6657b4714"
      },
      "outputs": [
        {
          "output_type": "stream",
          "name": "stdout",
          "text": [
            "\n",
            "\n",
            "<title>My first website</title>\n",
            "\n",
            "\n"
          ]
        }
      ],
      "source": [
        "for child in head_tag.children:\n",
        "  print(child)"
      ]
    },
    {
      "cell_type": "code",
      "source": [
        "for child in head_tag.descendants:\n",
        "  print(child)"
      ],
      "metadata": {
        "colab": {
          "base_uri": "https://localhost:8080/"
        },
        "id": "btAHM6KdZECm",
        "outputId": "51d6d884-ee68-46c4-db66-cdaea7148be7"
      },
      "execution_count": null,
      "outputs": [
        {
          "output_type": "stream",
          "name": "stdout",
          "text": [
            "\n",
            "\n",
            "<title>My first website</title>\n",
            "My first website\n",
            "\n",
            "\n"
          ]
        }
      ]
    },
    {
      "cell_type": "markdown",
      "source": [
        "Going up"
      ],
      "metadata": {
        "id": "2j2jYpQPZRwN"
      }
    },
    {
      "cell_type": "code",
      "source": [
        "a_tag = soup.a"
      ],
      "metadata": {
        "id": "xgUulqbsZKc7"
      },
      "execution_count": null,
      "outputs": []
    },
    {
      "cell_type": "code",
      "source": [
        "a_tag"
      ],
      "metadata": {
        "colab": {
          "base_uri": "https://localhost:8080/"
        },
        "id": "JEUhigpkZWUW",
        "outputId": "407ae9dd-ed55-4049-af43-29b16cafa747"
      },
      "execution_count": null,
      "outputs": [
        {
          "output_type": "execute_result",
          "data": {
            "text/plain": [
              "<a href=\"https://www.facebook.com/prakash.chandra.58173000/\" id=\"link1\">Facebook</a>"
            ]
          },
          "metadata": {},
          "execution_count": 289
        }
      ]
    },
    {
      "cell_type": "code",
      "source": [
        "for parent in a_tag.parents:\n",
        "  print(parent.name)"
      ],
      "metadata": {
        "colab": {
          "base_uri": "https://localhost:8080/"
        },
        "id": "ti-STMODZXI_",
        "outputId": "e672d682-cc00-4c52-800f-71402e18224b"
      },
      "execution_count": null,
      "outputs": [
        {
          "output_type": "stream",
          "name": "stdout",
          "text": [
            "body\n",
            "html\n",
            "[document]\n"
          ]
        }
      ]
    },
    {
      "cell_type": "markdown",
      "source": [
        "Going Sideways"
      ],
      "metadata": {
        "id": "GHpIcedVZ-ec"
      }
    },
    {
      "cell_type": "code",
      "source": [
        "html_string = \"<div><h1>child1</h1><p>child2</p></div>\""
      ],
      "metadata": {
        "id": "1piWcaX3Zeoj"
      },
      "execution_count": null,
      "outputs": []
    },
    {
      "cell_type": "code",
      "source": [
        "html_string"
      ],
      "metadata": {
        "colab": {
          "base_uri": "https://localhost:8080/",
          "height": 36
        },
        "id": "KTNgV1k7aQCD",
        "outputId": "150848d8-79d5-4ade-86e0-286bbe7ea219"
      },
      "execution_count": null,
      "outputs": [
        {
          "output_type": "execute_result",
          "data": {
            "application/vnd.google.colaboratory.intrinsic+json": {
              "type": "string"
            },
            "text/plain": [
              "'<div><h1>child1</h1><p>child2</p></div>'"
            ]
          },
          "metadata": {},
          "execution_count": 292
        }
      ]
    },
    {
      "cell_type": "code",
      "source": [
        "soup = BeautifulSoup(html_string,\"html.parser\")"
      ],
      "metadata": {
        "id": "URnwfYVZaRQh"
      },
      "execution_count": null,
      "outputs": []
    },
    {
      "cell_type": "code",
      "source": [
        "print(soup.prettify())"
      ],
      "metadata": {
        "colab": {
          "base_uri": "https://localhost:8080/"
        },
        "id": "LxYgZNc1abax",
        "outputId": "98165486-954b-452b-9b76-f078997d7be2"
      },
      "execution_count": null,
      "outputs": [
        {
          "output_type": "stream",
          "name": "stdout",
          "text": [
            "<div>\n",
            " <h1>\n",
            "  child1\n",
            " </h1>\n",
            " <p>\n",
            "  child2\n",
            " </p>\n",
            "</div>\n"
          ]
        }
      ]
    },
    {
      "cell_type": "code",
      "source": [
        "soup.div.next_sibling"
      ],
      "metadata": {
        "id": "w-ONi_lRaebV"
      },
      "execution_count": null,
      "outputs": []
    },
    {
      "cell_type": "code",
      "source": [
        "soup.h1.next_sibling"
      ],
      "metadata": {
        "colab": {
          "base_uri": "https://localhost:8080/"
        },
        "id": "ZEibmr2gaiYL",
        "outputId": "e45b70ca-a262-44d5-9329-47b7adb87157"
      },
      "execution_count": null,
      "outputs": [
        {
          "output_type": "execute_result",
          "data": {
            "text/plain": [
              "<p>child2</p>"
            ]
          },
          "metadata": {},
          "execution_count": 296
        }
      ]
    },
    {
      "cell_type": "code",
      "source": [
        "soup.p.next_sibling"
      ],
      "metadata": {
        "id": "CV187LAcaqB9"
      },
      "execution_count": null,
      "outputs": []
    },
    {
      "cell_type": "code",
      "source": [
        "soup.p.previous_sibling"
      ],
      "metadata": {
        "colab": {
          "base_uri": "https://localhost:8080/"
        },
        "id": "XLi7tlFDatN8",
        "outputId": "8c5aba73-47f5-4226-aedc-1a665dde18e4"
      },
      "execution_count": null,
      "outputs": [
        {
          "output_type": "execute_result",
          "data": {
            "text/plain": [
              "<h1>child1</h1>"
            ]
          },
          "metadata": {},
          "execution_count": 298
        }
      ]
    },
    {
      "cell_type": "code",
      "source": [
        "soup.h1.next_element"
      ],
      "metadata": {
        "colab": {
          "base_uri": "https://localhost:8080/",
          "height": 36
        },
        "id": "FbQ9KZfIawi1",
        "outputId": "22b50b15-7387-4010-8c78-b17c7eb6f5f6"
      },
      "execution_count": null,
      "outputs": [
        {
          "output_type": "execute_result",
          "data": {
            "application/vnd.google.colaboratory.intrinsic+json": {
              "type": "string"
            },
            "text/plain": [
              "'child1'"
            ]
          },
          "metadata": {},
          "execution_count": 299
        }
      ]
    },
    {
      "cell_type": "code",
      "source": [
        "soup.p.next_element"
      ],
      "metadata": {
        "colab": {
          "base_uri": "https://localhost:8080/",
          "height": 36
        },
        "id": "IzwuZS1PbDRW",
        "outputId": "df161d82-2095-42be-efd1-8e27182668e9"
      },
      "execution_count": null,
      "outputs": [
        {
          "output_type": "execute_result",
          "data": {
            "application/vnd.google.colaboratory.intrinsic+json": {
              "type": "string"
            },
            "text/plain": [
              "'child2'"
            ]
          },
          "metadata": {},
          "execution_count": 300
        }
      ]
    },
    {
      "cell_type": "markdown",
      "source": [
        "Searching"
      ],
      "metadata": {
        "id": "QOvXcEKpbgCI"
      }
    },
    {
      "cell_type": "code",
      "source": [
        "html_doc"
      ],
      "metadata": {
        "colab": {
          "base_uri": "https://localhost:8080/",
          "height": 90
        },
        "id": "am4_B7M9bOc8",
        "outputId": "6a691674-5a26-4f67-fd9c-e96fc567555c"
      },
      "execution_count": null,
      "outputs": [
        {
          "output_type": "execute_result",
          "data": {
            "application/vnd.google.colaboratory.intrinsic+json": {
              "type": "string"
            },
            "text/plain": [
              "'\\n<!DOCTYPE html>\\n<html>\\n\\n<head>\\n<title>My first website</title>\\n</head>\\n\\n<body>\\n<p class=\"title\">Prakash chandra Prasad</p>\\n<p class=\"info\">My social link is as follows: </p>\\n<a href=\"https://www.facebook.com/prakash.chandra.58173000/\" id=\"link1\">Facebook</a>\\n<a href=\"https://www.linkedin.com/in/prakash-chandra-prasad-2b8535143/\" id=\"link2\">LinkedIn</a>\\n<p class=\"info\">I have completed Masters degree</p>\\n</body>\\n\\n</html>\\n'"
            ]
          },
          "metadata": {},
          "execution_count": 301
        }
      ]
    },
    {
      "cell_type": "code",
      "source": [
        "soup = BeautifulSoup(html_doc,'html.parser')"
      ],
      "metadata": {
        "id": "WUdu4I4fbiDY"
      },
      "execution_count": null,
      "outputs": []
    },
    {
      "cell_type": "code",
      "source": [
        "a = soup.find_all('a')"
      ],
      "metadata": {
        "id": "5_ESKmd0bm16"
      },
      "execution_count": null,
      "outputs": []
    },
    {
      "cell_type": "code",
      "source": [
        "a"
      ],
      "metadata": {
        "colab": {
          "base_uri": "https://localhost:8080/"
        },
        "id": "P8I4RGXEbstd",
        "outputId": "95a17567-a647-43ee-b40f-5a88a86c86ad"
      },
      "execution_count": null,
      "outputs": [
        {
          "output_type": "execute_result",
          "data": {
            "text/plain": [
              "[<a href=\"https://www.facebook.com/prakash.chandra.58173000/\" id=\"link1\">Facebook</a>,\n",
              " <a href=\"https://www.linkedin.com/in/prakash-chandra-prasad-2b8535143/\" id=\"link2\">LinkedIn</a>]"
            ]
          },
          "metadata": {},
          "execution_count": 304
        }
      ]
    },
    {
      "cell_type": "code",
      "source": [
        "title = soup.find_all(attrs={'class':'info'})"
      ],
      "metadata": {
        "id": "lqyzRjERbtSh"
      },
      "execution_count": null,
      "outputs": []
    },
    {
      "cell_type": "code",
      "source": [
        "title"
      ],
      "metadata": {
        "colab": {
          "base_uri": "https://localhost:8080/"
        },
        "id": "LeCu5SfrbyvT",
        "outputId": "07056f66-9165-4f77-cda4-dfb59a1dd657"
      },
      "execution_count": null,
      "outputs": [
        {
          "output_type": "execute_result",
          "data": {
            "text/plain": [
              "[<p class=\"info\">My social link is as follows: </p>,\n",
              " <p class=\"info\">I have completed Masters degree</p>]"
            ]
          },
          "metadata": {},
          "execution_count": 310
        }
      ]
    },
    {
      "cell_type": "code",
      "source": [
        "title = soup.find_all(attrs={'id':'link1'})"
      ],
      "metadata": {
        "id": "So_anQRSb0FV"
      },
      "execution_count": null,
      "outputs": []
    },
    {
      "cell_type": "code",
      "source": [
        "title"
      ],
      "metadata": {
        "colab": {
          "base_uri": "https://localhost:8080/"
        },
        "id": "At4zLZvib-tb",
        "outputId": "e801286c-0efc-49bb-ddb9-e93ca860c90b"
      },
      "execution_count": null,
      "outputs": [
        {
          "output_type": "execute_result",
          "data": {
            "text/plain": [
              "[<a href=\"https://www.facebook.com/prakash.chandra.58173000/\" id=\"link1\">Facebook</a>]"
            ]
          },
          "metadata": {},
          "execution_count": 312
        }
      ]
    },
    {
      "cell_type": "markdown",
      "source": [
        "from table"
      ],
      "metadata": {
        "id": "4HQR9Nphd0dY"
      }
    },
    {
      "cell_type": "code",
      "source": [
        "html_doc = '''\n",
        "<!DOCTYPE html>\n",
        "<html>\n",
        "<head>\n",
        "<style>\n",
        "table {\n",
        "  font-family: arial, sans-serif;\n",
        "  border-collapse: collapse;\n",
        "  width: 100%;\n",
        "}\n",
        "\n",
        "td, th {\n",
        "  border: 1px solid #dddddd;\n",
        "  text-align: left;\n",
        "  padding: 8px;\n",
        "}\n",
        "\n",
        "tr:nth-child(even) {\n",
        "  background-color: #dddddd;\n",
        "}\n",
        "</style>\n",
        "</head>\n",
        "<body>\n",
        "\n",
        "<h2>HTML Table</h2>\n",
        "\n",
        "<table>\n",
        "  <tr>\n",
        "    <th>Company</th>\n",
        "    <th>Contact</th>\n",
        "    <th>Country</th>\n",
        "  </tr>\n",
        "  <tr>\n",
        "    <td>Alfreds Futterkiste</td>\n",
        "    <td>Maria Anders</td>\n",
        "    <td>Germany</td>\n",
        "  </tr>\n",
        "  <tr>\n",
        "    <td>Centro comercial Moctezuma</td>\n",
        "    <td>Francisco Chang</td>\n",
        "    <td>Mexico</td>\n",
        "  </tr>\n",
        "  <tr>\n",
        "    <td>Ernst Handel</td>\n",
        "    <td>Roland Mendel</td>\n",
        "    <td>Austria</td>\n",
        "  </tr>\n",
        "  <tr>\n",
        "    <td>Island Trading</td>\n",
        "    <td>Helen Bennett</td>\n",
        "    <td>UK</td>\n",
        "  </tr>\n",
        "  <tr>\n",
        "    <td>Laughing Bacchus Winecellars</td>\n",
        "    <td>Yoshi Tannamuri</td>\n",
        "    <td>Canada</td>\n",
        "  </tr>\n",
        "  <tr>\n",
        "    <td>Magazzini Alimentari Riuniti</td>\n",
        "    <td>Giovanni Rovelli</td>\n",
        "    <td>Italy</td>\n",
        "  </tr>\n",
        "</table>\n",
        "\n",
        "</body>\n",
        "</html>\n",
        "\n",
        "\n",
        "'''"
      ],
      "metadata": {
        "id": "Z5a_ISmMb_QG"
      },
      "execution_count": null,
      "outputs": []
    },
    {
      "cell_type": "code",
      "source": [
        "soup = BeautifulSoup(html_doc,'html.parser')"
      ],
      "metadata": {
        "id": "ZO_j1RRHd5MI"
      },
      "execution_count": null,
      "outputs": []
    },
    {
      "cell_type": "code",
      "source": [
        "table = soup.find('table')"
      ],
      "metadata": {
        "id": "m4ltpB-xd-In"
      },
      "execution_count": null,
      "outputs": []
    },
    {
      "cell_type": "code",
      "source": [
        "table"
      ],
      "metadata": {
        "colab": {
          "base_uri": "https://localhost:8080/"
        },
        "id": "bxa9q4ZmeCYm",
        "outputId": "72413a91-f3e6-4f12-8f11-d1fed56c03bf"
      },
      "execution_count": null,
      "outputs": [
        {
          "output_type": "execute_result",
          "data": {
            "text/plain": [
              "<table>\n",
              "<tr>\n",
              "<th>Company</th>\n",
              "<th>Contact</th>\n",
              "<th>Country</th>\n",
              "</tr>\n",
              "<tr>\n",
              "<td>Alfreds Futterkiste</td>\n",
              "<td>Maria Anders</td>\n",
              "<td>Germany</td>\n",
              "</tr>\n",
              "<tr>\n",
              "<td>Centro comercial Moctezuma</td>\n",
              "<td>Francisco Chang</td>\n",
              "<td>Mexico</td>\n",
              "</tr>\n",
              "<tr>\n",
              "<td>Ernst Handel</td>\n",
              "<td>Roland Mendel</td>\n",
              "<td>Austria</td>\n",
              "</tr>\n",
              "<tr>\n",
              "<td>Island Trading</td>\n",
              "<td>Helen Bennett</td>\n",
              "<td>UK</td>\n",
              "</tr>\n",
              "<tr>\n",
              "<td>Laughing Bacchus Winecellars</td>\n",
              "<td>Yoshi Tannamuri</td>\n",
              "<td>Canada</td>\n",
              "</tr>\n",
              "<tr>\n",
              "<td>Magazzini Alimentari Riuniti</td>\n",
              "<td>Giovanni Rovelli</td>\n",
              "<td>Italy</td>\n",
              "</tr>\n",
              "</table>"
            ]
          },
          "metadata": {},
          "execution_count": 316
        }
      ]
    },
    {
      "cell_type": "code",
      "source": [
        "trs = table.find_all('tr')"
      ],
      "metadata": {
        "id": "006GnvpLeDOp"
      },
      "execution_count": null,
      "outputs": []
    },
    {
      "cell_type": "code",
      "source": [
        "trs.pop(0)"
      ],
      "metadata": {
        "colab": {
          "base_uri": "https://localhost:8080/"
        },
        "id": "RUTO-6SneJBw",
        "outputId": "80c67b05-a03d-4a55-9f1f-153d51a8e6f0"
      },
      "execution_count": null,
      "outputs": [
        {
          "output_type": "execute_result",
          "data": {
            "text/plain": [
              "<tr>\n",
              "<th>Company</th>\n",
              "<th>Contact</th>\n",
              "<th>Country</th>\n",
              "</tr>"
            ]
          },
          "metadata": {},
          "execution_count": 319
        }
      ]
    },
    {
      "cell_type": "code",
      "source": [
        "trs"
      ],
      "metadata": {
        "colab": {
          "base_uri": "https://localhost:8080/"
        },
        "id": "cAJOHv41eNM0",
        "outputId": "d1418805-5549-4e3a-b1e8-93361e51e8f6"
      },
      "execution_count": null,
      "outputs": [
        {
          "output_type": "execute_result",
          "data": {
            "text/plain": [
              "[<tr>\n",
              " <td>Alfreds Futterkiste</td>\n",
              " <td>Maria Anders</td>\n",
              " <td>Germany</td>\n",
              " </tr>, <tr>\n",
              " <td>Centro comercial Moctezuma</td>\n",
              " <td>Francisco Chang</td>\n",
              " <td>Mexico</td>\n",
              " </tr>, <tr>\n",
              " <td>Ernst Handel</td>\n",
              " <td>Roland Mendel</td>\n",
              " <td>Austria</td>\n",
              " </tr>, <tr>\n",
              " <td>Island Trading</td>\n",
              " <td>Helen Bennett</td>\n",
              " <td>UK</td>\n",
              " </tr>, <tr>\n",
              " <td>Laughing Bacchus Winecellars</td>\n",
              " <td>Yoshi Tannamuri</td>\n",
              " <td>Canada</td>\n",
              " </tr>, <tr>\n",
              " <td>Magazzini Alimentari Riuniti</td>\n",
              " <td>Giovanni Rovelli</td>\n",
              " <td>Italy</td>\n",
              " </tr>]"
            ]
          },
          "metadata": {},
          "execution_count": 320
        }
      ]
    },
    {
      "cell_type": "code",
      "source": [
        "tr = trs[0]"
      ],
      "metadata": {
        "id": "GjKWklAseV_w"
      },
      "execution_count": null,
      "outputs": []
    },
    {
      "cell_type": "code",
      "source": [
        "tr.findChildren()"
      ],
      "metadata": {
        "colab": {
          "base_uri": "https://localhost:8080/"
        },
        "id": "i4MjcAjfe9u1",
        "outputId": "e9f5bbd0-7021-44ac-9683-178826e4d42e"
      },
      "execution_count": null,
      "outputs": [
        {
          "output_type": "execute_result",
          "data": {
            "text/plain": [
              "[<td>Alfreds Futterkiste</td>, <td>Maria Anders</td>, <td>Germany</td>]"
            ]
          },
          "metadata": {},
          "execution_count": 327
        }
      ]
    },
    {
      "cell_type": "code",
      "source": [
        "data = []\n",
        "for tr in trs:\n",
        "  d = tr.findChildren()\n",
        "  temp = [d[0].text,d[1].text,d[2].text]\n",
        "  data.append(temp)"
      ],
      "metadata": {
        "id": "95bdv5pJfEuQ"
      },
      "execution_count": null,
      "outputs": []
    },
    {
      "cell_type": "code",
      "source": [
        "data"
      ],
      "metadata": {
        "colab": {
          "base_uri": "https://localhost:8080/"
        },
        "id": "sZ-acsKSgCIw",
        "outputId": "ce705fdd-6953-487b-84a6-53fd8a5be50e"
      },
      "execution_count": null,
      "outputs": [
        {
          "output_type": "execute_result",
          "data": {
            "text/plain": [
              "[['Alfreds Futterkiste', 'Maria Anders', 'Germany'],\n",
              " ['Centro comercial Moctezuma', 'Francisco Chang', 'Mexico'],\n",
              " ['Ernst Handel', 'Roland Mendel', 'Austria'],\n",
              " ['Island Trading', 'Helen Bennett', 'UK'],\n",
              " ['Laughing Bacchus Winecellars', 'Yoshi Tannamuri', 'Canada'],\n",
              " ['Magazzini Alimentari Riuniti', 'Giovanni Rovelli', 'Italy']]"
            ]
          },
          "metadata": {},
          "execution_count": 336
        }
      ]
    },
    {
      "cell_type": "code",
      "source": [
        ""
      ],
      "metadata": {
        "id": "ubmE599BgDKW"
      },
      "execution_count": null,
      "outputs": []
    }
  ],
  "metadata": {
    "colab": {
      "name": "Web scrapping Basics.ipynb",
      "provenance": []
    },
    "kernelspec": {
      "display_name": "Python 3",
      "name": "python3"
    },
    "language_info": {
      "name": "python"
    }
  },
  "nbformat": 4,
  "nbformat_minor": 0
}