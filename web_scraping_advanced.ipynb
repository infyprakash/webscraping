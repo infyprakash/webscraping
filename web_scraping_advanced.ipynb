{
  "cells": [
    {
      "cell_type": "code",
      "execution_count": null,
      "metadata": {
        "id": "QHf7X7srdQBY"
      },
      "outputs": [],
      "source": [
        "import requests\n",
        "from bs4 import BeautifulSoup"
      ]
    },
    {
      "cell_type": "code",
      "execution_count": null,
      "metadata": {
        "id": "OxbMTYDAeiy7"
      },
      "outputs": [],
      "source": [
        "url = 'https://www.pythonscraping.com/pages/warandpeace.html'\n",
        "html = requests.get(url)"
      ]
    },
    {
      "cell_type": "code",
      "execution_count": null,
      "metadata": {
        "colab": {
          "base_uri": "https://localhost:8080/"
        },
        "id": "1blAXG9le1Xj",
        "outputId": "ce7f402e-1272-46e5-85dc-2fe64091acef"
      },
      "outputs": [
        {
          "output_type": "stream",
          "name": "stdout",
          "text": [
            "<Response [200]>\n"
          ]
        }
      ],
      "source": [
        "print(html)"
      ]
    },
    {
      "cell_type": "code",
      "execution_count": null,
      "metadata": {
        "colab": {
          "base_uri": "https://localhost:8080/"
        },
        "id": "anWIHvswe5z8",
        "outputId": "b0d9653d-c36c-48b3-9e9f-d9b85eebd733"
      },
      "outputs": [
        {
          "output_type": "stream",
          "name": "stdout",
          "text": [
            "<html>\n",
            "<head>\n",
            "<style>\n",
            ".green{\n",
            "\tcolor:#55ff55;\n",
            "}\n",
            ".red{\n",
            "\tcolor:#ff5555;\n",
            "}\n",
            "#text{\n",
            "\twidth:50%;\n",
            "}\n",
            "</style>\n",
            "</head>\n",
            "<body>\n",
            "<h1>War and Peace</h1>\n",
            "<h2>Chapter 1</h2>\n",
            "<div id=\"text\">\n",
            "\"<span class=\"red\">Well, Prince, so Genoa and Lucca are now just family estates of the\n",
            "Buonapartes. But I warn you, if you don't tell me that this means war,\n",
            "if you still try to defend the infamies and horrors perpetrated by\n",
            "that Antichrist- I really believe he is Antichrist- I will have\n",
            "nothing more to do with you and you are no longer my friend, no longer\n",
            "my 'faithful slave,' as you call yourself! But how do you do? I see\n",
            "I have frightened you- sit down and tell me all the news.</span>\"\n",
            "<p/>\n",
            "It was in July, 1805, and the speaker was the well-known <span class=\"green\">Anna\n",
            "Pavlovna Scherer</span>, maid of honor and favorite of the <span class=\"green\">Empress Marya\n",
            "Fedorovna</span>. With these words she greeted <span class=\"green\">Prince Vasili Kuragin</span>, a man\n",
            "of high rank and importance, who was the first to arrive at her\n",
            "reception. <span class=\"green\">Anna Pavlovna</span> had had a cough for some days. She was, as\n",
            "she said, suffering from la grippe; grippe being then a new word in\n",
            "<span class=\"green\">St. Petersburg</span>, used only by the elite.\n",
            "<p/>\n",
            "All her invitations without exception, written in French, and\n",
            "delivered by a scarlet-liveried footman that morning, ran as follows:\n",
            "<p/>\n",
            "\"<span class=\"red\">If you have nothing better to do, Count [or Prince], and if the\n",
            "prospect of spending an evening with a poor invalid is not too\n",
            "terrible, I shall be very charmed to see you tonight between 7 and 10-\n",
            "Annette Scherer.</span>\"\n",
            "<p/>\n",
            "\"<span class=\"red\">Heavens! what a virulent attack!</span>\" replied <span class=\"green\">the prince</span>, not in the\n",
            "least disconcerted by this reception. He had just entered, wearing\n",
            "an embroidered court uniform, knee breeches, and shoes, and had\n",
            "stars on his breast and a serene expression on his flat face. He spoke\n",
            "in that refined French in which our grandfathers not only spoke but\n",
            "thought, and with the gentle, patronizing intonation natural to a\n",
            "man of importance who had grown old in society and at court. He went\n",
            "up to <span class=\"green\">Anna Pavlovna</span>, kissed her hand, presenting to her his bald,\n",
            "scented, and shining head, and complacently seated himself on the\n",
            "sofa.\n",
            "<p/>\n",
            "\"<span class=\"red\">First of all, dear friend, tell me how you are. Set your friend's\n",
            "mind at rest,</span>\" said he without altering his tone, beneath the\n",
            "politeness and affected sympathy of which indifference and even\n",
            "irony could be discerned.\n",
            "<p/>\n",
            "\"<span class=\"red\">Can one be well while suffering morally? Can one be calm in times\n",
            "like these if one has any feeling?</span>\" said <span class=\"green\">Anna Pavlovna</span>. \"<span class=\"red\">You are\n",
            "staying the whole evening, I hope?</span>\"\n",
            "<p/>\n",
            "\"<span class=\"red\">And the fete at the English ambassador's? Today is Wednesday. I\n",
            "must put in an appearance there,</span>\" said <span class=\"green\">the prince</span>. \"<span class=\"red\">My daughter is\n",
            "coming for me to take me there.</span>\"\n",
            "<p/>\n",
            "\"<span class=\"red\">I thought today's fete had been canceled. I confess all these\n",
            "festivities and fireworks are becoming wearisome.</span>\"\n",
            "<p/>\n",
            "\"<span class=\"red\">If they had known that you wished it, the entertainment would\n",
            "have been put off,</span>\" said <span class=\"green\">the prince</span>, who, like a wound-up clock, by\n",
            "force of habit said things he did not even wish to be believed.\n",
            "<p/>\n",
            "\"<span class=\"red\">Don't tease! Well, and what has been decided about Novosiltsev's\n",
            "dispatch? You know everything.</span>\"\n",
            "<p/>\n",
            "\"<span class=\"red\">What can one say about it?</span>\" replied <span class=\"green\">the prince</span> in a cold,\n",
            "listless tone. \"<span class=\"red\">What has been decided? They have decided that\n",
            "Buonaparte has burnt his boats, and I believe that we are ready to\n",
            "burn ours.</span>\"\n",
            "<p/>\n",
            "<span class=\"green\">Prince Vasili</span> always spoke languidly, like an actor repeating a\n",
            "stale part. <span class=\"green\">Anna Pavlovna</span> Scherer on the contrary, despite her forty\n",
            "years, overflowed with animation and impulsiveness. To be an\n",
            "enthusiast had become her social vocation and, sometimes even when she\n",
            "did not feel like it, she became enthusiastic in order not to\n",
            "disappoint the expectations of those who knew her. The subdued smile\n",
            "which, though it did not suit her faded features, always played\n",
            "round her lips expressed, as in a spoiled child, a continual\n",
            "consciousness of her charming defect, which she neither wished, nor\n",
            "could, nor considered it necessary, to correct.\n",
            "<p/>\n",
            "In the midst of a conversation on political matters <span class=\"green\">Anna Pavlovna</span>\n",
            "burst out:\n",
            "<p/>\n",
            "\"<span class=\"red\">Oh, don't speak to me of Austria. Perhaps I don't understand\n",
            "things, but Austria never has wished, and does not wish, for war.\n",
            "She is betraying us! Russia alone must save Europe. Our gracious\n",
            "sovereign recognizes his high vocation and will be true to it. That is\n",
            "the one thing I have faith in! Our good and wonderful sovereign has to\n",
            "perform the noblest role on earth, and he is so virtuous and noble\n",
            "that God will not forsake him. He will fulfill his vocation and\n",
            "crush the hydra of revolution, which has become more terrible than\n",
            "ever in the person of this murderer and villain! We alone must\n",
            "avenge the blood of the just one.... Whom, I ask you, can we rely\n",
            "on?... England with her commercial spirit will not and cannot\n",
            "understand the Emperor Alexander's loftiness of soul. She has\n",
            "refused to evacuate Malta. She wanted to find, and still seeks, some\n",
            "secret motive in our actions. What answer did Novosiltsev get? None.\n",
            "The English have not understood and cannot understand the\n",
            "self-abnegation of our Emperor who wants nothing for himself, but only\n",
            "desires the good of mankind. And what have they promised? Nothing! And\n",
            "what little they have promised they will not perform! Prussia has\n",
            "always declared that Buonaparte is invincible, and that all Europe\n",
            "is powerless before him.... And I don't believe a word that Hardenburg\n",
            "says, or Haugwitz either. This famous Prussian neutrality is just a\n",
            "trap. I have faith only in God and the lofty destiny of our adored\n",
            "monarch. He will save Europe!</span>\"\n",
            "<p/>\n",
            "She suddenly paused, smiling at her own impetuosity.\n",
            "<p/>\n",
            "\"<span class=\"red\">I think,</span>\" said <span class=\"green\">the prince</span> with a smile, \"<span class=\"red\">that if you had been\n",
            "sent instead of our dear <span class=\"green\">Wintzingerode</span> you would have captured the\n",
            "<span class=\"green\">King of Prussia</span>'s consent by assault. You are so eloquent. Will you\n",
            "give me a cup of tea?</span>\"\n",
            "<p/>\n",
            "\"<span class=\"red\">In a moment. A propos,</span>\" she added, becoming calm again, \"<span class=\"red\">I am\n",
            "expecting two very interesting men tonight, <span class=\"green\">le Vicomte de Mortemart</span>,\n",
            "who is connected with the <span class=\"green\">Montmorencys</span> through the <span class=\"green\">Rohans</span>, one of\n",
            "the best French families. He is one of the genuine emigres, the good\n",
            "ones. And also the <span class=\"green\">Abbe Morio</span>. Do you know that profound thinker? He\n",
            "has been received by <span class=\"green\">the Emperor</span>. Had you heard?</span>\"\n",
            "<p/>\n",
            "\"<span class=\"red\">I shall be delighted to meet them,</span>\" said <span class=\"green\">the prince</span>. \"<span class=\"red\">But tell me,</span>\"\n",
            "he added with studied carelessness as if it had only just occurred\n",
            "to him, though the question he was about to ask was the chief motive\n",
            "of his visit, \"<span class=\"red\">is it true that the Dowager Empress wants Baron Funke\n",
            "to be appointed first secretary at Vienna? The baron by all accounts\n",
            "is a poor creature.</span>\"\n",
            "<p/>\n",
            "<span class=\"green\">Prince Vasili</span> wished to obtain this post for his son, but others\n",
            "were trying through the <span class=\"green\">Dowager Empress Marya Fedorovna</span> to secure it\n",
            "for <span class=\"green\">the baron</span>.\n",
            "<p/>\n",
            "<span class=\"green\">Anna Pavlovna</span> almost closed her eyes to indicate that neither she\n",
            "nor anyone else had a right to criticize what <span class=\"green\">the Empress</span> desired or\n",
            "was pleased with.\n",
            "<p/>\n",
            "\"<span class=\"red\">Baron Funke has been recommended to the Dowager Empress by her\n",
            "sister,</span>\" was all she said, in a dry and mournful tone.\n",
            "<p/>\n",
            "As she named <span class=\"green\">the Empress</span>, <span class=\"green\">Anna Pavlovna's</span> face suddenly assumed an\n",
            "expression of profound and sincere devotion and respect mingled with\n",
            "sadness, and this occurred every time she mentioned her illustrious\n",
            "patroness. She added that <span class=\"green\">Her Majesty</span> had deigned to show <span class=\"green\">Baron\n",
            "Funke</span>, and again her face clouded over with sadness.\n",
            "<p/>\n",
            "<span class=\"green\">The prince</span> was silent and looked indifferent. But, with the\n",
            "womanly and courtierlike quickness and tact habitual to her, <span class=\"green\">Anna\n",
            "Pavlovna</span> wished both to rebuke him (for daring to speak he had done of\n",
            "a man recommended to <span class=\"green\">the Empress</span>) and at the same time to console him,\n",
            "so she said:\n",
            "<p/>\n",
            "\"<span class=\"red\">Now about your family. Do you know that since your daughter came\n",
            "out everyone has been enraptured by her? They say she is amazingly\n",
            "beautiful.</span>\"\n",
            "<p/>\n",
            "<span class=\"green\">The prince</span> bowed to signify his respect and gratitude.\n",
            "<p/>\n",
            "\"<span class=\"red\">I often think,</span>\" she continued after a short pause, drawing nearer\n",
            "to the prince and smiling amiably at him as if to show that\n",
            "political and social topics were ended and the time had come for\n",
            "intimate conversation- \"<span class=\"red\">I often think how unfairly sometimes the\n",
            "joys of life are distributed. Why has fate given you two such splendid\n",
            "children? I don't speak of <span class=\"green\">Anatole</span>, your youngest. I don't like\n",
            "him,</span>\" she added in a tone admitting of no rejoinder and raising her\n",
            "eyebrows. \"<span class=\"red\">Two such charming children. And really you appreciate\n",
            "them less than anyone, and so you don't deserve to have them.</span>\"\n",
            "<p/>\n",
            "And she smiled her ecstatic smile.\n",
            "<p/>\n",
            "\"<span class=\"red\">I can't help it,</span>\" said <span class=\"green\">the prince</span>. \"<span class=\"red\">Lavater would have said I\n",
            "lack the bump of paternity.</span>\"\n",
            "<p/>\n",
            "\"<span class=\"red\">Don't joke; I mean to have a serious talk with you. Do you know I\n",
            "am dissatisfied with your younger son? Between ourselves</span>\" (and her\n",
            "face assumed its melancholy expression), \"<span class=\"red\">he was mentioned at Her\n",
            "Majesty's and you were pitied....</span>\"\n",
            "<p/>\n",
            "<span class=\"green\">The prince</span> answered nothing, but she looked at him significantly,\n",
            "awaiting a reply. He frowned.\n",
            "<p/>\n",
            "\"<span class=\"red\">What would you have me do?</span>\" he said at last. \"<span class=\"red\">You know I did all\n",
            "a father could for their education, and they have both turned out\n",
            "fools. Hippolyte is at least a quiet fool, but Anatole is an active\n",
            "one. That is the only difference between them.</span>\" He said this smiling\n",
            "in a way more natural and animated than usual, so that the wrinkles\n",
            "round his mouth very clearly revealed something unexpectedly coarse\n",
            "and unpleasant.\n",
            "<p/>\n",
            "\"<span class=\"red\">And why are children born to such men as you? If you were not a\n",
            "father there would be nothing I could reproach you with,</span>\" said <span class=\"green\">Anna\n",
            "Pavlovna</span>, looking up pensively.\n",
            "<p/>\n",
            "\"<span class=\"red\">I am your faithful slave and to you alone I can confess that my\n",
            "children are the bane of my life. It is the cross I have to bear. That\n",
            "is how I explain it to myself. It can't be helped!</span>\"\n",
            "<p/>\n",
            "He said no more, but expressed his resignation to cruel fate by a\n",
            "gesture. <span class=\"green\">Anna Pavlovna</span> meditated.\n",
            "</div>\n",
            "</body>\n",
            "</html>\n",
            "\n"
          ]
        }
      ],
      "source": [
        "print(html.text)"
      ]
    },
    {
      "cell_type": "code",
      "execution_count": null,
      "metadata": {
        "id": "SRvKZRySe8JY"
      },
      "outputs": [],
      "source": [
        "bsobj = BeautifulSoup(html.text,\"html.parser\")"
      ]
    },
    {
      "cell_type": "code",
      "execution_count": null,
      "metadata": {
        "id": "2KUcC_fwfCUA"
      },
      "outputs": [],
      "source": [
        "# print(bsobj)"
      ]
    },
    {
      "cell_type": "code",
      "execution_count": null,
      "metadata": {
        "id": "zXBZWY8afJQc"
      },
      "outputs": [],
      "source": [
        "names = bsobj.find_all('span',attrs={'class':'green'})"
      ]
    },
    {
      "cell_type": "code",
      "execution_count": null,
      "metadata": {
        "colab": {
          "base_uri": "https://localhost:8080/"
        },
        "id": "sGUtVOrhfdcU",
        "outputId": "19210007-9866-43b2-af69-c6dd7e184f4c"
      },
      "outputs": [
        {
          "output_type": "execute_result",
          "data": {
            "text/plain": [
              "41"
            ]
          },
          "metadata": {},
          "execution_count": 142
        }
      ],
      "source": [
        "len(names)"
      ]
    },
    {
      "cell_type": "code",
      "execution_count": null,
      "metadata": {
        "id": "ijmIY62xffhf"
      },
      "outputs": [],
      "source": [
        "name_list=[]\n",
        "for name in names:\n",
        "  name_list.append(name.text)"
      ]
    },
    {
      "cell_type": "code",
      "execution_count": null,
      "metadata": {
        "colab": {
          "base_uri": "https://localhost:8080/"
        },
        "id": "jX356bwBfhus",
        "outputId": "67e68e2a-1412-441e-852f-bd2415b31252"
      },
      "outputs": [
        {
          "output_type": "stream",
          "name": "stdout",
          "text": [
            "['Anna\\nPavlovna Scherer', 'Empress Marya\\nFedorovna', 'Prince Vasili Kuragin', 'Anna Pavlovna', 'St. Petersburg', 'the prince', 'Anna Pavlovna', 'Anna Pavlovna', 'the prince', 'the prince', 'the prince', 'Prince Vasili', 'Anna Pavlovna', 'Anna Pavlovna', 'the prince', 'Wintzingerode', 'King of Prussia', 'le Vicomte de Mortemart', 'Montmorencys', 'Rohans', 'Abbe Morio', 'the Emperor', 'the prince', 'Prince Vasili', 'Dowager Empress Marya Fedorovna', 'the baron', 'Anna Pavlovna', 'the Empress', 'the Empress', \"Anna Pavlovna's\", 'Her Majesty', 'Baron\\nFunke', 'The prince', 'Anna\\nPavlovna', 'the Empress', 'The prince', 'Anatole', 'the prince', 'The prince', 'Anna\\nPavlovna', 'Anna Pavlovna']\n"
          ]
        }
      ],
      "source": [
        "print(name_list)"
      ]
    },
    {
      "cell_type": "code",
      "execution_count": null,
      "metadata": {
        "id": "03ShN3pXftg2"
      },
      "outputs": [],
      "source": [
        "headings = bsobj.find_all({'h1','h2'})"
      ]
    },
    {
      "cell_type": "code",
      "execution_count": null,
      "metadata": {
        "colab": {
          "base_uri": "https://localhost:8080/"
        },
        "id": "TPuCafLigEz1",
        "outputId": "bd3c4fcf-87ef-4947-c130-2bbfdebc3f44"
      },
      "outputs": [
        {
          "output_type": "execute_result",
          "data": {
            "text/plain": [
              "[<h1>War and Peace</h1>, <h2>Chapter 1</h2>]"
            ]
          },
          "metadata": {},
          "execution_count": 146
        }
      ],
      "source": [
        "headings"
      ]
    },
    {
      "cell_type": "code",
      "execution_count": null,
      "metadata": {
        "id": "wD6zx8ldgF4A"
      },
      "outputs": [],
      "source": [
        "#find all red color text\n",
        "\n",
        "paragraphs = bsobj.find_all('span',attrs={'class':'red'})"
      ]
    },
    {
      "cell_type": "code",
      "execution_count": null,
      "metadata": {
        "id": "ewNcjfErgTbW"
      },
      "outputs": [],
      "source": [
        "t = []\n",
        "for line in paragraphs:\n",
        "  t.append(line.text)\n",
        "# print(paragraphs)"
      ]
    },
    {
      "cell_type": "code",
      "execution_count": null,
      "metadata": {
        "colab": {
          "base_uri": "https://localhost:8080/"
        },
        "id": "DuZNppO5gVSZ",
        "outputId": "22002620-a637-46d9-a556-c44c4946b033"
      },
      "outputs": [
        {
          "output_type": "stream",
          "name": "stdout",
          "text": [
            "[\"Well, Prince, so Genoa and Lucca are now just family estates of the\\nBuonapartes. But I warn you, if you don't tell me that this means war,\\nif you still try to defend the infamies and horrors perpetrated by\\nthat Antichrist- I really believe he is Antichrist- I will have\\nnothing more to do with you and you are no longer my friend, no longer\\nmy 'faithful slave,' as you call yourself! But how do you do? I see\\nI have frightened you- sit down and tell me all the news.\", 'If you have nothing better to do, Count [or Prince], and if the\\nprospect of spending an evening with a poor invalid is not too\\nterrible, I shall be very charmed to see you tonight between 7 and 10-\\nAnnette Scherer.', 'Heavens! what a virulent attack!', \"First of all, dear friend, tell me how you are. Set your friend's\\nmind at rest,\", 'Can one be well while suffering morally? Can one be calm in times\\nlike these if one has any feeling?', 'You are\\nstaying the whole evening, I hope?', \"And the fete at the English ambassador's? Today is Wednesday. I\\nmust put in an appearance there,\", 'My daughter is\\ncoming for me to take me there.', \"I thought today's fete had been canceled. I confess all these\\nfestivities and fireworks are becoming wearisome.\", 'If they had known that you wished it, the entertainment would\\nhave been put off,', \"Don't tease! Well, and what has been decided about Novosiltsev's\\ndispatch? You know everything.\", 'What can one say about it?', 'What has been decided? They have decided that\\nBuonaparte has burnt his boats, and I believe that we are ready to\\nburn ours.', \"Oh, don't speak to me of Austria. Perhaps I don't understand\\nthings, but Austria never has wished, and does not wish, for war.\\nShe is betraying us! Russia alone must save Europe. Our gracious\\nsovereign recognizes his high vocation and will be true to it. That is\\nthe one thing I have faith in! Our good and wonderful sovereign has to\\nperform the noblest role on earth, and he is so virtuous and noble\\nthat God will not forsake him. He will fulfill his vocation and\\ncrush the hydra of revolution, which has become more terrible than\\never in the person of this murderer and villain! We alone must\\navenge the blood of the just one.... Whom, I ask you, can we rely\\non?... England with her commercial spirit will not and cannot\\nunderstand the Emperor Alexander's loftiness of soul. She has\\nrefused to evacuate Malta. She wanted to find, and still seeks, some\\nsecret motive in our actions. What answer did Novosiltsev get? None.\\nThe English have not understood and cannot understand the\\nself-abnegation of our Emperor who wants nothing for himself, but only\\ndesires the good of mankind. And what have they promised? Nothing! And\\nwhat little they have promised they will not perform! Prussia has\\nalways declared that Buonaparte is invincible, and that all Europe\\nis powerless before him.... And I don't believe a word that Hardenburg\\nsays, or Haugwitz either. This famous Prussian neutrality is just a\\ntrap. I have faith only in God and the lofty destiny of our adored\\nmonarch. He will save Europe!\", 'I think,', \"that if you had been\\nsent instead of our dear Wintzingerode you would have captured the\\nKing of Prussia's consent by assault. You are so eloquent. Will you\\ngive me a cup of tea?\", 'In a moment. A propos,', 'I am\\nexpecting two very interesting men tonight, le Vicomte de Mortemart,\\nwho is connected with the Montmorencys through the Rohans, one of\\nthe best French families. He is one of the genuine emigres, the good\\nones. And also the Abbe Morio. Do you know that profound thinker? He\\nhas been received by the Emperor. Had you heard?', 'I shall be delighted to meet them,', 'But tell me,', 'is it true that the Dowager Empress wants Baron Funke\\nto be appointed first secretary at Vienna? The baron by all accounts\\nis a poor creature.', 'Baron Funke has been recommended to the Dowager Empress by her\\nsister,', 'Now about your family. Do you know that since your daughter came\\nout everyone has been enraptured by her? They say she is amazingly\\nbeautiful.', 'I often think,', \"I often think how unfairly sometimes the\\njoys of life are distributed. Why has fate given you two such splendid\\nchildren? I don't speak of Anatole, your youngest. I don't like\\nhim,\", \"Two such charming children. And really you appreciate\\nthem less than anyone, and so you don't deserve to have them.\", \"I can't help it,\", 'Lavater would have said I\\nlack the bump of paternity.', \"Don't joke; I mean to have a serious talk with you. Do you know I\\nam dissatisfied with your younger son? Between ourselves\", \"he was mentioned at Her\\nMajesty's and you were pitied....\", 'What would you have me do?', 'You know I did all\\na father could for their education, and they have both turned out\\nfools. Hippolyte is at least a quiet fool, but Anatole is an active\\none. That is the only difference between them.', 'And why are children born to such men as you? If you were not a\\nfather there would be nothing I could reproach you with,', \"I am your faithful slave and to you alone I can confess that my\\nchildren are the bane of my life. It is the cross I have to bear. That\\nis how I explain it to myself. It can't be helped!\"]\n"
          ]
        }
      ],
      "source": [
        "print(t)"
      ]
    },
    {
      "cell_type": "code",
      "execution_count": null,
      "metadata": {
        "colab": {
          "base_uri": "https://localhost:8080/"
        },
        "id": "Kc6QvgcWgd2l",
        "outputId": "0493296e-2088-4cd4-9f3d-cc7c56a3c8b7"
      },
      "outputs": [
        {
          "output_type": "stream",
          "name": "stdout",
          "text": [
            "['the prince', 'the prince', 'the prince', 'the prince', 'the prince', 'the prince', 'the prince']\n"
          ]
        }
      ],
      "source": [
        "num = bsobj.find_all(text=\"the prince\")\n",
        "print(num)"
      ]
    },
    {
      "cell_type": "markdown",
      "metadata": {
        "id": "I_tUcfhDiF7x"
      },
      "source": [
        "Extracting data from table"
      ]
    },
    {
      "cell_type": "code",
      "execution_count": null,
      "metadata": {
        "id": "diL50vJvg-8g"
      },
      "outputs": [],
      "source": [
        "url = \"https://www.pythonscraping.com/pages/page3.html\""
      ]
    },
    {
      "cell_type": "code",
      "execution_count": null,
      "metadata": {
        "id": "kMSRqSDXiLnG"
      },
      "outputs": [],
      "source": [
        "html_doc = requests.get(url)"
      ]
    },
    {
      "cell_type": "code",
      "execution_count": null,
      "metadata": {
        "id": "IR7tvmRNiPKS"
      },
      "outputs": [],
      "source": [
        "soup = BeautifulSoup(html_doc.text,'html.parser')"
      ]
    },
    {
      "cell_type": "code",
      "execution_count": null,
      "metadata": {
        "colab": {
          "base_uri": "https://localhost:8080/"
        },
        "id": "FEFwuNwaigHn",
        "outputId": "63e4c87b-e86f-4d7d-b798-376adc328f11"
      },
      "outputs": [
        {
          "output_type": "stream",
          "name": "stdout",
          "text": [
            "<html>\n",
            "<head>\n",
            "<style>\n",
            "img{\n",
            "\twidth:75px;\n",
            "}\n",
            "table{\n",
            "\twidth:50%;\n",
            "}\n",
            "td{\n",
            "\tmargin:10px;\n",
            "\tpadding:10px;\n",
            "}\n",
            ".wrapper{\n",
            "\twidth:800px;\n",
            "}\n",
            ".excitingNote{\n",
            "\tfont-style:italic;\n",
            "\tfont-weight:bold;\n",
            "}\n",
            "</style>\n",
            "</head>\n",
            "<body>\n",
            "<div id=\"wrapper\">\n",
            "<img src=\"../img/gifts/logo.jpg\" style=\"float:left;\"/>\n",
            "<h1>Totally Normal Gifts</h1>\n",
            "<div id=\"content\">Here is a collection of totally normal, totally reasonable gifts that your friends are sure to love! Our collection is\n",
            "hand-curated by well-paid, free-range Tibetan monks.<p>\n",
            "We haven't figured out how to make online shopping carts yet, but you can send us a check to:<br/>\n",
            "123 Main St.<br/>\n",
            "Abuja, Nigeria\n",
            "We will then send your totally amazing gift, pronto! Please include an extra $5.00 for gift wrapping.</p></div>\n",
            "<table id=\"giftList\">\n",
            "<tr><th>\n",
            "Item Title\n",
            "</th><th>\n",
            "Description\n",
            "</th><th>\n",
            "Cost\n",
            "</th><th>\n",
            "Image\n",
            "</th></tr>\n",
            "<tr class=\"gift\" id=\"gift1\"><td>\n",
            "Vegetable Basket\n",
            "</td><td>\n",
            "This vegetable basket is the perfect gift for your health conscious (or overweight) friends!\n",
            "<span class=\"excitingNote\">Now with super-colorful bell peppers!</span>\n",
            "</td><td>\n",
            "$15.00\n",
            "</td><td>\n",
            "<img src=\"../img/gifts/img1.jpg\"/>\n",
            "</td></tr>\n",
            "<tr class=\"gift\" id=\"gift2\"><td>\n",
            "Russian Nesting Dolls\n",
            "</td><td>\n",
            "Hand-painted by trained monkeys, these exquisite dolls are priceless! And by \"priceless,\" we mean \"extremely expensive\"! <span class=\"excitingNote\">8 entire dolls per set! Octuple the presents!</span>\n",
            "</td><td>\n",
            "$10,000.52\n",
            "</td><td>\n",
            "<img src=\"../img/gifts/img2.jpg\"/>\n",
            "</td></tr>\n",
            "<tr class=\"gift\" id=\"gift3\"><td>\n",
            "Fish Painting\n",
            "</td><td>\n",
            "If something seems fishy about this painting, it's because it's a fish! <span class=\"excitingNote\">Also hand-painted by trained monkeys!</span>\n",
            "</td><td>\n",
            "$10,005.00\n",
            "</td><td>\n",
            "<img src=\"../img/gifts/img3.jpg\"/>\n",
            "</td></tr>\n",
            "<tr class=\"gift\" id=\"gift4\"><td>\n",
            "Dead Parrot\n",
            "</td><td>\n",
            "This is an ex-parrot! <span class=\"excitingNote\">Or maybe he's only resting?</span>\n",
            "</td><td>\n",
            "$0.50\n",
            "</td><td>\n",
            "<img src=\"../img/gifts/img4.jpg\"/>\n",
            "</td></tr>\n",
            "<tr class=\"gift\" id=\"gift5\"><td>\n",
            "Mystery Box\n",
            "</td><td>\n",
            "If you love suprises, this mystery box is for you! Do not place on light-colored surfaces. May cause oil staining. <span class=\"excitingNote\">Keep your friends guessing!</span>\n",
            "</td><td>\n",
            "$1.50\n",
            "</td><td>\n",
            "<img src=\"../img/gifts/img6.jpg\"/>\n",
            "</td></tr>\n",
            "</table>\n",
            "</div></body></html>\n",
            "<div id=\"footer\">\n",
            "© Totally Normal Gifts, Inc. <br/>\n",
            "+234 (617) 863-0736\n",
            "</div>\n",
            "\n",
            "\n",
            "\n",
            "\n"
          ]
        }
      ],
      "source": [
        "print(soup)"
      ]
    },
    {
      "cell_type": "code",
      "execution_count": null,
      "metadata": {
        "colab": {
          "base_uri": "https://localhost:8080/"
        },
        "id": "_G5pwoMxikWS",
        "outputId": "22ce9ecc-d264-42c4-dda7-ac1bf9a721a1"
      },
      "outputs": [
        {
          "output_type": "stream",
          "name": "stdout",
          "text": [
            "Totally Normal Gifts\n"
          ]
        }
      ],
      "source": [
        "print(soup.h1.text)"
      ]
    },
    {
      "cell_type": "code",
      "execution_count": null,
      "metadata": {
        "id": "i7XjfTLyirJ0"
      },
      "outputs": [],
      "source": [
        "contents = soup.find(\"div\",attrs={'id':'content'})"
      ]
    },
    {
      "cell_type": "code",
      "execution_count": null,
      "metadata": {
        "id": "-JPqOdGQi6I0"
      },
      "outputs": [],
      "source": [
        "# contents[0].text"
      ]
    },
    {
      "cell_type": "code",
      "source": [
        "raw_table = soup.find(\"table\",attrs={'id':'giftList'})"
      ],
      "metadata": {
        "id": "8of533gTlbA1"
      },
      "execution_count": null,
      "outputs": []
    },
    {
      "cell_type": "code",
      "source": [
        "print(raw_table)"
      ],
      "metadata": {
        "colab": {
          "base_uri": "https://localhost:8080/"
        },
        "id": "iZsDKViRl1gR",
        "outputId": "d1428587-4d4e-4a9d-b406-844195fe4ee2"
      },
      "execution_count": null,
      "outputs": [
        {
          "output_type": "stream",
          "name": "stdout",
          "text": [
            "<table id=\"giftList\">\n",
            "<tr><th>\n",
            "Item Title\n",
            "</th><th>\n",
            "Description\n",
            "</th><th>\n",
            "Cost\n",
            "</th><th>\n",
            "Image\n",
            "</th></tr>\n",
            "<tr class=\"gift\" id=\"gift1\"><td>\n",
            "Vegetable Basket\n",
            "</td><td>\n",
            "This vegetable basket is the perfect gift for your health conscious (or overweight) friends!\n",
            "<span class=\"excitingNote\">Now with super-colorful bell peppers!</span>\n",
            "</td><td>\n",
            "$15.00\n",
            "</td><td>\n",
            "<img src=\"../img/gifts/img1.jpg\"/>\n",
            "</td></tr>\n",
            "<tr class=\"gift\" id=\"gift2\"><td>\n",
            "Russian Nesting Dolls\n",
            "</td><td>\n",
            "Hand-painted by trained monkeys, these exquisite dolls are priceless! And by \"priceless,\" we mean \"extremely expensive\"! <span class=\"excitingNote\">8 entire dolls per set! Octuple the presents!</span>\n",
            "</td><td>\n",
            "$10,000.52\n",
            "</td><td>\n",
            "<img src=\"../img/gifts/img2.jpg\"/>\n",
            "</td></tr>\n",
            "<tr class=\"gift\" id=\"gift3\"><td>\n",
            "Fish Painting\n",
            "</td><td>\n",
            "If something seems fishy about this painting, it's because it's a fish! <span class=\"excitingNote\">Also hand-painted by trained monkeys!</span>\n",
            "</td><td>\n",
            "$10,005.00\n",
            "</td><td>\n",
            "<img src=\"../img/gifts/img3.jpg\"/>\n",
            "</td></tr>\n",
            "<tr class=\"gift\" id=\"gift4\"><td>\n",
            "Dead Parrot\n",
            "</td><td>\n",
            "This is an ex-parrot! <span class=\"excitingNote\">Or maybe he's only resting?</span>\n",
            "</td><td>\n",
            "$0.50\n",
            "</td><td>\n",
            "<img src=\"../img/gifts/img4.jpg\"/>\n",
            "</td></tr>\n",
            "<tr class=\"gift\" id=\"gift5\"><td>\n",
            "Mystery Box\n",
            "</td><td>\n",
            "If you love suprises, this mystery box is for you! Do not place on light-colored surfaces. May cause oil staining. <span class=\"excitingNote\">Keep your friends guessing!</span>\n",
            "</td><td>\n",
            "$1.50\n",
            "</td><td>\n",
            "<img src=\"../img/gifts/img6.jpg\"/>\n",
            "</td></tr>\n",
            "</table>\n"
          ]
        }
      ]
    },
    {
      "cell_type": "code",
      "source": [
        "for sibling in raw_table.tr.next_siblings:\n",
        "  print(sibling)\n",
        "  print('*'*20)"
      ],
      "metadata": {
        "colab": {
          "base_uri": "https://localhost:8080/"
        },
        "id": "lvTOIUgsl2_7",
        "outputId": "74612a51-5de2-4feb-cacf-6cf492fbe32e"
      },
      "execution_count": null,
      "outputs": [
        {
          "output_type": "stream",
          "name": "stdout",
          "text": [
            "\n",
            "\n",
            "********************\n",
            "<tr class=\"gift\" id=\"gift1\"><td>\n",
            "Vegetable Basket\n",
            "</td><td>\n",
            "This vegetable basket is the perfect gift for your health conscious (or overweight) friends!\n",
            "<span class=\"excitingNote\">Now with super-colorful bell peppers!</span>\n",
            "</td><td>\n",
            "$15.00\n",
            "</td><td>\n",
            "<img src=\"../img/gifts/img1.jpg\"/>\n",
            "</td></tr>\n",
            "********************\n",
            "\n",
            "\n",
            "********************\n",
            "<tr class=\"gift\" id=\"gift2\"><td>\n",
            "Russian Nesting Dolls\n",
            "</td><td>\n",
            "Hand-painted by trained monkeys, these exquisite dolls are priceless! And by \"priceless,\" we mean \"extremely expensive\"! <span class=\"excitingNote\">8 entire dolls per set! Octuple the presents!</span>\n",
            "</td><td>\n",
            "$10,000.52\n",
            "</td><td>\n",
            "<img src=\"../img/gifts/img2.jpg\"/>\n",
            "</td></tr>\n",
            "********************\n",
            "\n",
            "\n",
            "********************\n",
            "<tr class=\"gift\" id=\"gift3\"><td>\n",
            "Fish Painting\n",
            "</td><td>\n",
            "If something seems fishy about this painting, it's because it's a fish! <span class=\"excitingNote\">Also hand-painted by trained monkeys!</span>\n",
            "</td><td>\n",
            "$10,005.00\n",
            "</td><td>\n",
            "<img src=\"../img/gifts/img3.jpg\"/>\n",
            "</td></tr>\n",
            "********************\n",
            "\n",
            "\n",
            "********************\n",
            "<tr class=\"gift\" id=\"gift4\"><td>\n",
            "Dead Parrot\n",
            "</td><td>\n",
            "This is an ex-parrot! <span class=\"excitingNote\">Or maybe he's only resting?</span>\n",
            "</td><td>\n",
            "$0.50\n",
            "</td><td>\n",
            "<img src=\"../img/gifts/img4.jpg\"/>\n",
            "</td></tr>\n",
            "********************\n",
            "\n",
            "\n",
            "********************\n",
            "<tr class=\"gift\" id=\"gift5\"><td>\n",
            "Mystery Box\n",
            "</td><td>\n",
            "If you love suprises, this mystery box is for you! Do not place on light-colored surfaces. May cause oil staining. <span class=\"excitingNote\">Keep your friends guessing!</span>\n",
            "</td><td>\n",
            "$1.50\n",
            "</td><td>\n",
            "<img src=\"../img/gifts/img6.jpg\"/>\n",
            "</td></tr>\n",
            "********************\n",
            "\n",
            "\n",
            "********************\n"
          ]
        }
      ]
    },
    {
      "cell_type": "code",
      "source": [
        ""
      ],
      "metadata": {
        "id": "PSBkc-O9mAyO"
      },
      "execution_count": null,
      "outputs": []
    },
    {
      "cell_type": "code",
      "source": [
        "data = []\n",
        "for sibling in raw_table.tr.next_siblings:\n",
        "  if(sibling=='\\n'):\n",
        "    continue\n",
        "  else:\n",
        "    tds = sibling.find_all('td')\n",
        "    d = {}\n",
        "    d['item_title'] = tds[0].text\n",
        "    d['description'] = tds[1].text\n",
        "    d['cost'] = tds[2].text\n",
        "    d['image_link'] = tds[3].img['src']\n",
        "    data.append(d)\n",
        "\n"
      ],
      "metadata": {
        "id": "q8yiJF0Zmtzk"
      },
      "execution_count": null,
      "outputs": []
    },
    {
      "cell_type": "code",
      "source": [
        "print(data)"
      ],
      "metadata": {
        "colab": {
          "base_uri": "https://localhost:8080/"
        },
        "id": "ZBt0zp2Dn3TN",
        "outputId": "eca19c02-02a6-4570-dad0-3973419bdbd5"
      },
      "execution_count": null,
      "outputs": [
        {
          "output_type": "stream",
          "name": "stdout",
          "text": [
            "[{'item_title': '\\nVegetable Basket\\n', 'description': '\\nThis vegetable basket is the perfect gift for your health conscious (or overweight) friends!\\nNow with super-colorful bell peppers!\\n', 'cost': '\\n$15.00\\n', 'image_link': '../img/gifts/img1.jpg'}, {'item_title': '\\nRussian Nesting Dolls\\n', 'description': '\\nHand-painted by trained monkeys, these exquisite dolls are priceless! And by \"priceless,\" we mean \"extremely expensive\"! 8 entire dolls per set! Octuple the presents!\\n', 'cost': '\\n$10,000.52\\n', 'image_link': '../img/gifts/img2.jpg'}, {'item_title': '\\nFish Painting\\n', 'description': \"\\nIf something seems fishy about this painting, it's because it's a fish! Also hand-painted by trained monkeys!\\n\", 'cost': '\\n$10,005.00\\n', 'image_link': '../img/gifts/img3.jpg'}, {'item_title': '\\nDead Parrot\\n', 'description': \"\\nThis is an ex-parrot! Or maybe he's only resting?\\n\", 'cost': '\\n$0.50\\n', 'image_link': '../img/gifts/img4.jpg'}, {'item_title': '\\nMystery Box\\n', 'description': '\\nIf you love suprises, this mystery box is for you! Do not place on light-colored surfaces. May cause oil staining. Keep your friends guessing!\\n', 'cost': '\\n$1.50\\n', 'image_link': '../img/gifts/img6.jpg'}]\n"
          ]
        }
      ]
    },
    {
      "cell_type": "code",
      "source": [
        "soup"
      ],
      "metadata": {
        "colab": {
          "base_uri": "https://localhost:8080/"
        },
        "id": "j4UP5qeCt2zM",
        "outputId": "c8e79c9f-6b62-4c56-8e96-506bfc0925e4"
      },
      "execution_count": null,
      "outputs": [
        {
          "output_type": "execute_result",
          "data": {
            "text/plain": [
              "<html>\n",
              "<head>\n",
              "<style>\n",
              "img{\n",
              "\twidth:75px;\n",
              "}\n",
              "table{\n",
              "\twidth:50%;\n",
              "}\n",
              "td{\n",
              "\tmargin:10px;\n",
              "\tpadding:10px;\n",
              "}\n",
              ".wrapper{\n",
              "\twidth:800px;\n",
              "}\n",
              ".excitingNote{\n",
              "\tfont-style:italic;\n",
              "\tfont-weight:bold;\n",
              "}\n",
              "</style>\n",
              "</head>\n",
              "<body>\n",
              "<div id=\"wrapper\">\n",
              "<img src=\"../img/gifts/logo.jpg\" style=\"float:left;\"/>\n",
              "<h1>Totally Normal Gifts</h1>\n",
              "<div id=\"content\">Here is a collection of totally normal, totally reasonable gifts that your friends are sure to love! Our collection is\n",
              "hand-curated by well-paid, free-range Tibetan monks.<p>\n",
              "We haven't figured out how to make online shopping carts yet, but you can send us a check to:<br/>\n",
              "123 Main St.<br/>\n",
              "Abuja, Nigeria\n",
              "We will then send your totally amazing gift, pronto! Please include an extra $5.00 for gift wrapping.</p></div>\n",
              "<table id=\"giftList\">\n",
              "<tr><th>\n",
              "Item Title\n",
              "</th><th>\n",
              "Description\n",
              "</th><th>\n",
              "Cost\n",
              "</th><th>\n",
              "Image\n",
              "</th></tr>\n",
              "<tr class=\"gift\" id=\"gift1\"><td>\n",
              "Vegetable Basket\n",
              "</td><td>\n",
              "This vegetable basket is the perfect gift for your health conscious (or overweight) friends!\n",
              "<span class=\"excitingNote\">Now with super-colorful bell peppers!</span>\n",
              "</td><td>\n",
              "$15.00\n",
              "</td><td>\n",
              "<img src=\"../img/gifts/img1.jpg\"/>\n",
              "</td></tr>\n",
              "<tr class=\"gift\" id=\"gift2\"><td>\n",
              "Russian Nesting Dolls\n",
              "</td><td>\n",
              "Hand-painted by trained monkeys, these exquisite dolls are priceless! And by \"priceless,\" we mean \"extremely expensive\"! <span class=\"excitingNote\">8 entire dolls per set! Octuple the presents!</span>\n",
              "</td><td>\n",
              "$10,000.52\n",
              "</td><td>\n",
              "<img src=\"../img/gifts/img2.jpg\"/>\n",
              "</td></tr>\n",
              "<tr class=\"gift\" id=\"gift3\"><td>\n",
              "Fish Painting\n",
              "</td><td>\n",
              "If something seems fishy about this painting, it's because it's a fish! <span class=\"excitingNote\">Also hand-painted by trained monkeys!</span>\n",
              "</td><td>\n",
              "$10,005.00\n",
              "</td><td>\n",
              "<img src=\"../img/gifts/img3.jpg\"/>\n",
              "</td></tr>\n",
              "<tr class=\"gift\" id=\"gift4\"><td>\n",
              "Dead Parrot\n",
              "</td><td>\n",
              "This is an ex-parrot! <span class=\"excitingNote\">Or maybe he's only resting?</span>\n",
              "</td><td>\n",
              "$0.50\n",
              "</td><td>\n",
              "<img src=\"../img/gifts/img4.jpg\"/>\n",
              "</td></tr>\n",
              "<tr class=\"gift\" id=\"gift5\"><td>\n",
              "Mystery Box\n",
              "</td><td>\n",
              "If you love suprises, this mystery box is for you! Do not place on light-colored surfaces. May cause oil staining. <span class=\"excitingNote\">Keep your friends guessing!</span>\n",
              "</td><td>\n",
              "$1.50\n",
              "</td><td>\n",
              "<img src=\"../img/gifts/img6.jpg\"/>\n",
              "</td></tr>\n",
              "</table>\n",
              "</div></body></html>\n",
              "<div id=\"footer\">\n",
              "© Totally Normal Gifts, Inc. <br/>\n",
              "+234 (617) 863-0736\n",
              "</div>\n",
              "\n",
              "\n"
            ]
          },
          "metadata": {},
          "execution_count": 163
        }
      ]
    },
    {
      "cell_type": "code",
      "source": [
        "data=[]\n",
        "for child in raw_table.children:\n",
        "  if(child=='\\n'):\n",
        "    continue\n",
        "  else:\n",
        "    tds = child.find_all('td')\n",
        "    # print(tds)\n",
        "    if tds:\n",
        "      d = {}\n",
        "      d['item_title'] = tds[0].text\n",
        "      d['description'] = tds[1].text\n",
        "      d['cost'] = tds[2].text\n",
        "      d['image_link'] = tds[3].img['src']\n",
        "      data.append(d)\n"
      ],
      "metadata": {
        "id": "usqh64mJt3Tt"
      },
      "execution_count": null,
      "outputs": []
    },
    {
      "cell_type": "code",
      "source": [
        "data"
      ],
      "metadata": {
        "colab": {
          "base_uri": "https://localhost:8080/"
        },
        "id": "WbQB9cfvuMYj",
        "outputId": "84c64663-f166-4add-dc26-06d0fcc19c8a"
      },
      "execution_count": null,
      "outputs": [
        {
          "output_type": "execute_result",
          "data": {
            "text/plain": [
              "[{'cost': '\\n$15.00\\n',\n",
              "  'description': '\\nThis vegetable basket is the perfect gift for your health conscious (or overweight) friends!\\nNow with super-colorful bell peppers!\\n',\n",
              "  'image_link': '../img/gifts/img1.jpg',\n",
              "  'item_title': '\\nVegetable Basket\\n'},\n",
              " {'cost': '\\n$10,000.52\\n',\n",
              "  'description': '\\nHand-painted by trained monkeys, these exquisite dolls are priceless! And by \"priceless,\" we mean \"extremely expensive\"! 8 entire dolls per set! Octuple the presents!\\n',\n",
              "  'image_link': '../img/gifts/img2.jpg',\n",
              "  'item_title': '\\nRussian Nesting Dolls\\n'},\n",
              " {'cost': '\\n$10,005.00\\n',\n",
              "  'description': \"\\nIf something seems fishy about this painting, it's because it's a fish! Also hand-painted by trained monkeys!\\n\",\n",
              "  'image_link': '../img/gifts/img3.jpg',\n",
              "  'item_title': '\\nFish Painting\\n'},\n",
              " {'cost': '\\n$0.50\\n',\n",
              "  'description': \"\\nThis is an ex-parrot! Or maybe he's only resting?\\n\",\n",
              "  'image_link': '../img/gifts/img4.jpg',\n",
              "  'item_title': '\\nDead Parrot\\n'},\n",
              " {'cost': '\\n$1.50\\n',\n",
              "  'description': '\\nIf you love suprises, this mystery box is for you! Do not place on light-colored surfaces. May cause oil staining. Keep your friends guessing!\\n',\n",
              "  'image_link': '../img/gifts/img6.jpg',\n",
              "  'item_title': '\\nMystery Box\\n'}]"
            ]
          },
          "metadata": {},
          "execution_count": 170
        }
      ]
    },
    {
      "cell_type": "code",
      "source": [
        ""
      ],
      "metadata": {
        "id": "bLouo88kvQ6P"
      },
      "execution_count": null,
      "outputs": []
    }
  ],
  "metadata": {
    "colab": {
      "name": "web scraping - advanced.ipynb",
      "provenance": []
    },
    "kernelspec": {
      "display_name": "Python 3",
      "name": "python3"
    },
    "language_info": {
      "name": "python"
    }
  },
  "nbformat": 4,
  "nbformat_minor": 0
}