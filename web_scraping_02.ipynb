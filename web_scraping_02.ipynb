{
  "nbformat": 4,
  "nbformat_minor": 0,
  "metadata": {
    "colab": {
      "name": "web scraping-02.ipynb",
      "provenance": []
    },
    "kernelspec": {
      "name": "python3",
      "display_name": "Python 3"
    },
    "language_info": {
      "name": "python"
    }
  },
  "cells": [
    {
      "cell_type": "code",
      "execution_count": null,
      "metadata": {
        "id": "p8wSu3prY4I6"
      },
      "outputs": [],
      "source": [
        "import requests\n",
        "from bs4 import BeautifulSoup"
      ]
    },
    {
      "cell_type": "code",
      "source": [
        "res=  requests.get(\"https://www.pythonscraping.com/exercises/exercise1.html\")"
      ],
      "metadata": {
        "id": "YxamFcBdZIV8"
      },
      "execution_count": null,
      "outputs": []
    },
    {
      "cell_type": "code",
      "source": [
        "res.headers"
      ],
      "metadata": {
        "colab": {
          "base_uri": "https://localhost:8080/"
        },
        "id": "IjfBsiHyZZsy",
        "outputId": "9236904c-d753-46e8-af6e-5dd66213734c"
      },
      "execution_count": null,
      "outputs": [
        {
          "output_type": "execute_result",
          "data": {
            "text/plain": [
              "{'Server': 'nginx', 'Date': 'Wed, 25 May 2022 13:26:30 GMT', 'Content-Type': 'text/html', 'Content-Length': '361', 'Connection': 'keep-alive', 'X-Accel-Version': '0.01', 'Last-Modified': 'Mon, 15 Jun 2015 21:48:24 GMT', 'ETag': '\"234-518956ac45a00-gzip\"', 'Accept-Ranges': 'bytes', 'Vary': 'Accept-Encoding', 'Content-Encoding': 'gzip', 'X-Powered-By': 'PleskLin'}"
            ]
          },
          "metadata": {},
          "execution_count": 6
        }
      ]
    },
    {
      "cell_type": "code",
      "source": [
        "res.content"
      ],
      "metadata": {
        "colab": {
          "base_uri": "https://localhost:8080/"
        },
        "id": "keThJlzVZebW",
        "outputId": "17fc5a01-de4a-4397-f9ed-0d40c6319994"
      },
      "execution_count": null,
      "outputs": [
        {
          "output_type": "execute_result",
          "data": {
            "text/plain": [
              "b'<html>\\n<head>\\n<title>A Useful Page</title>\\n</head>\\n<body>\\n<h1>An Interesting Title</h1>\\n<div>\\nLorem ipsum dolor sit amet, consectetur adipisicing elit, sed do eiusmod tempor incididunt ut labore et dolore magna aliqua. Ut enim ad minim veniam, quis nostrud exercitation ullamco laboris nisi ut aliquip ex ea commodo consequat. Duis aute irure dolor in reprehenderit in voluptate velit esse cillum dolore eu fugiat nulla pariatur. Excepteur sint occaecat cupidatat non proident, sunt in culpa qui officia deserunt mollit anim id est laborum.\\n</div>\\n</body>\\n</html>\\n'"
            ]
          },
          "metadata": {},
          "execution_count": 7
        }
      ]
    },
    {
      "cell_type": "code",
      "source": [
        "bsobj = BeautifulSoup(res.content,\"html.parser\")"
      ],
      "metadata": {
        "id": "2WhoCINwZ52o"
      },
      "execution_count": null,
      "outputs": []
    },
    {
      "cell_type": "code",
      "source": [
        "print(dir(bsobj))"
      ],
      "metadata": {
        "colab": {
          "base_uri": "https://localhost:8080/"
        },
        "id": "c3dOLSKRbA8B",
        "outputId": "18522089-4946-4a5a-f10e-ec791358f57a"
      },
      "execution_count": null,
      "outputs": [
        {
          "output_type": "stream",
          "name": "stdout",
          "text": [
            "['ASCII_SPACES', 'DEFAULT_BUILDER_FEATURES', 'HTML_FORMATTERS', 'NO_PARSER_SPECIFIED_WARNING', 'ROOT_TAG_NAME', 'XML_FORMATTERS', '__bool__', '__call__', '__class__', '__contains__', '__copy__', '__delattr__', '__delitem__', '__dict__', '__dir__', '__doc__', '__eq__', '__format__', '__ge__', '__getattr__', '__getattribute__', '__getitem__', '__getstate__', '__gt__', '__hash__', '__init__', '__init_subclass__', '__iter__', '__le__', '__len__', '__lt__', '__module__', '__ne__', '__new__', '__reduce__', '__reduce_ex__', '__repr__', '__setattr__', '__setitem__', '__sizeof__', '__str__', '__subclasshook__', '__unicode__', '__weakref__', '_all_strings', '_attr_value_as_string', '_attribute_checker', '_check_markup_is_url', '_feed', '_find_all', '_find_one', '_formatter_for_name', '_is_xml', '_lastRecursiveChild', '_last_descendant', '_most_recent_element', '_popToTag', '_select_debug', '_selector_combinators', '_should_pretty_print', '_tag_name_matches_and', 'append', 'attribselect_re', 'attrs', 'builder', 'can_be_empty_element', 'childGenerator', 'children', 'clear', 'contains_replacement_characters', 'contents', 'currentTag', 'current_data', 'declared_html_encoding', 'decode', 'decode_contents', 'decompose', 'descendants', 'encode', 'encode_contents', 'endData', 'extract', 'fetchNextSiblings', 'fetchParents', 'fetchPrevious', 'fetchPreviousSiblings', 'find', 'findAll', 'findAllNext', 'findAllPrevious', 'findChild', 'findChildren', 'findNext', 'findNextSibling', 'findNextSiblings', 'findParent', 'findParents', 'findPrevious', 'findPreviousSibling', 'findPreviousSiblings', 'find_all', 'find_all_next', 'find_all_previous', 'find_next', 'find_next_sibling', 'find_next_siblings', 'find_parent', 'find_parents', 'find_previous', 'find_previous_sibling', 'find_previous_siblings', 'format_string', 'get', 'getText', 'get_attribute_list', 'get_text', 'handle_data', 'handle_endtag', 'handle_starttag', 'has_attr', 'has_key', 'hidden', 'index', 'insert', 'insert_after', 'insert_before', 'isSelfClosing', 'is_empty_element', 'is_xml', 'known_xml', 'markup', 'name', 'namespace', 'new_string', 'new_tag', 'next', 'nextGenerator', 'nextSibling', 'nextSiblingGenerator', 'next_element', 'next_elements', 'next_sibling', 'next_siblings', 'object_was_parsed', 'original_encoding', 'parent', 'parentGenerator', 'parents', 'parse_only', 'parserClass', 'parser_class', 'popTag', 'prefix', 'preserve_whitespace_tag_stack', 'preserve_whitespace_tags', 'prettify', 'previous', 'previousGenerator', 'previousSibling', 'previousSiblingGenerator', 'previous_element', 'previous_elements', 'previous_sibling', 'previous_siblings', 'pushTag', 'quoted_colon', 'recursiveChildGenerator', 'renderContents', 'replaceWith', 'replaceWithChildren', 'replace_with', 'replace_with_children', 'reset', 'select', 'select_one', 'setup', 'string', 'strings', 'stripped_strings', 'tagStack', 'tag_name_re', 'text', 'unwrap', 'wrap']\n"
          ]
        }
      ]
    },
    {
      "cell_type": "code",
      "source": [
        "bsobj.h1.text"
      ],
      "metadata": {
        "colab": {
          "base_uri": "https://localhost:8080/",
          "height": 35
        },
        "id": "ZX5JVG_4bFBB",
        "outputId": "6deb3844-5395-40d0-c1b6-60d5dc9702bc"
      },
      "execution_count": null,
      "outputs": [
        {
          "output_type": "execute_result",
          "data": {
            "text/plain": [
              "'An Interesting Title'"
            ],
            "application/vnd.google.colaboratory.intrinsic+json": {
              "type": "string"
            }
          },
          "metadata": {},
          "execution_count": 11
        }
      ]
    },
    {
      "cell_type": "code",
      "source": [
        "print(bsobj.div.text)\n"
      ],
      "metadata": {
        "colab": {
          "base_uri": "https://localhost:8080/"
        },
        "id": "EXjWF-x3baao",
        "outputId": "e4b37d2c-3372-479d-a219-187e3d8f34e2"
      },
      "execution_count": null,
      "outputs": [
        {
          "output_type": "stream",
          "name": "stdout",
          "text": [
            "\n",
            "Lorem ipsum dolor sit amet, consectetur adipisicing elit, sed do eiusmod tempor incididunt ut labore et dolore magna aliqua. Ut enim ad minim veniam, quis nostrud exercitation ullamco laboris nisi ut aliquip ex ea commodo consequat. Duis aute irure dolor in reprehenderit in voluptate velit esse cillum dolore eu fugiat nulla pariatur. Excepteur sint occaecat cupidatat non proident, sunt in culpa qui officia deserunt mollit anim id est laborum.\n",
            "\n"
          ]
        }
      ]
    },
    {
      "cell_type": "code",
      "source": [
        "res = requests.get(\"https://www.pythonscraping.com/pages/warandpeace.html\")"
      ],
      "metadata": {
        "id": "z-wmwelPblFf"
      },
      "execution_count": null,
      "outputs": []
    },
    {
      "cell_type": "code",
      "source": [
        "bsobj = BeautifulSoup(res.content,'html.parser')"
      ],
      "metadata": {
        "id": "22Dgyv31cAwy"
      },
      "execution_count": null,
      "outputs": []
    },
    {
      "cell_type": "code",
      "source": [
        "bsobj.h1.text"
      ],
      "metadata": {
        "colab": {
          "base_uri": "https://localhost:8080/",
          "height": 35
        },
        "id": "2kYWnB1tcG6N",
        "outputId": "0f1a9204-e64a-498e-e413-7598985b13c6"
      },
      "execution_count": null,
      "outputs": [
        {
          "output_type": "execute_result",
          "data": {
            "text/plain": [
              "'War and Peace'"
            ],
            "application/vnd.google.colaboratory.intrinsic+json": {
              "type": "string"
            }
          },
          "metadata": {},
          "execution_count": 16
        }
      ]
    },
    {
      "cell_type": "code",
      "source": [
        "bsobj.h2.text"
      ],
      "metadata": {
        "colab": {
          "base_uri": "https://localhost:8080/",
          "height": 35
        },
        "id": "0w9gmjhZcNdg",
        "outputId": "6e0608bd-6471-4370-b845-a7497dea8a3d"
      },
      "execution_count": null,
      "outputs": [
        {
          "output_type": "execute_result",
          "data": {
            "text/plain": [
              "'Chapter 1'"
            ],
            "application/vnd.google.colaboratory.intrinsic+json": {
              "type": "string"
            }
          },
          "metadata": {},
          "execution_count": 17
        }
      ]
    },
    {
      "cell_type": "code",
      "source": [
        "red_text = bsobj.find_all(\"span\",attrs={\"class\":\"red\"})"
      ],
      "metadata": {
        "id": "PEszrC46cQMR"
      },
      "execution_count": null,
      "outputs": []
    },
    {
      "cell_type": "code",
      "source": [
        "len(red_text)"
      ],
      "metadata": {
        "colab": {
          "base_uri": "https://localhost:8080/"
        },
        "id": "14sWQNJ2csr5",
        "outputId": "67bd15e9-7a82-4c93-9b79-667020bcd97a"
      },
      "execution_count": null,
      "outputs": [
        {
          "output_type": "execute_result",
          "data": {
            "text/plain": [
              "34"
            ]
          },
          "metadata": {},
          "execution_count": 22
        }
      ]
    },
    {
      "cell_type": "code",
      "source": [
        "type(red_text)"
      ],
      "metadata": {
        "colab": {
          "base_uri": "https://localhost:8080/"
        },
        "id": "ri1an6B5cuIV",
        "outputId": "ad436c16-3229-4a8e-ff82-ef03e1addf3e"
      },
      "execution_count": null,
      "outputs": [
        {
          "output_type": "execute_result",
          "data": {
            "text/plain": [
              "bs4.element.ResultSet"
            ]
          },
          "metadata": {},
          "execution_count": 23
        }
      ]
    },
    {
      "cell_type": "code",
      "source": [
        "for msg in red_text:\n",
        "  print(msg.text)\n",
        "  print(\"*\"*100)"
      ],
      "metadata": {
        "colab": {
          "base_uri": "https://localhost:8080/"
        },
        "id": "SxRwFNaIdCQs",
        "outputId": "db2e74cb-578e-4b57-a305-78d1f99cd338"
      },
      "execution_count": null,
      "outputs": [
        {
          "output_type": "stream",
          "name": "stdout",
          "text": [
            "Well, Prince, so Genoa and Lucca are now just family estates of the\n",
            "Buonapartes. But I warn you, if you don't tell me that this means war,\n",
            "if you still try to defend the infamies and horrors perpetrated by\n",
            "that Antichrist- I really believe he is Antichrist- I will have\n",
            "nothing more to do with you and you are no longer my friend, no longer\n",
            "my 'faithful slave,' as you call yourself! But how do you do? I see\n",
            "I have frightened you- sit down and tell me all the news.\n",
            "****************************************************************************************************\n",
            "If you have nothing better to do, Count [or Prince], and if the\n",
            "prospect of spending an evening with a poor invalid is not too\n",
            "terrible, I shall be very charmed to see you tonight between 7 and 10-\n",
            "Annette Scherer.\n",
            "****************************************************************************************************\n",
            "Heavens! what a virulent attack!\n",
            "****************************************************************************************************\n",
            "First of all, dear friend, tell me how you are. Set your friend's\n",
            "mind at rest,\n",
            "****************************************************************************************************\n",
            "Can one be well while suffering morally? Can one be calm in times\n",
            "like these if one has any feeling?\n",
            "****************************************************************************************************\n",
            "You are\n",
            "staying the whole evening, I hope?\n",
            "****************************************************************************************************\n",
            "And the fete at the English ambassador's? Today is Wednesday. I\n",
            "must put in an appearance there,\n",
            "****************************************************************************************************\n",
            "My daughter is\n",
            "coming for me to take me there.\n",
            "****************************************************************************************************\n",
            "I thought today's fete had been canceled. I confess all these\n",
            "festivities and fireworks are becoming wearisome.\n",
            "****************************************************************************************************\n",
            "If they had known that you wished it, the entertainment would\n",
            "have been put off,\n",
            "****************************************************************************************************\n",
            "Don't tease! Well, and what has been decided about Novosiltsev's\n",
            "dispatch? You know everything.\n",
            "****************************************************************************************************\n",
            "What can one say about it?\n",
            "****************************************************************************************************\n",
            "What has been decided? They have decided that\n",
            "Buonaparte has burnt his boats, and I believe that we are ready to\n",
            "burn ours.\n",
            "****************************************************************************************************\n",
            "Oh, don't speak to me of Austria. Perhaps I don't understand\n",
            "things, but Austria never has wished, and does not wish, for war.\n",
            "She is betraying us! Russia alone must save Europe. Our gracious\n",
            "sovereign recognizes his high vocation and will be true to it. That is\n",
            "the one thing I have faith in! Our good and wonderful sovereign has to\n",
            "perform the noblest role on earth, and he is so virtuous and noble\n",
            "that God will not forsake him. He will fulfill his vocation and\n",
            "crush the hydra of revolution, which has become more terrible than\n",
            "ever in the person of this murderer and villain! We alone must\n",
            "avenge the blood of the just one.... Whom, I ask you, can we rely\n",
            "on?... England with her commercial spirit will not and cannot\n",
            "understand the Emperor Alexander's loftiness of soul. She has\n",
            "refused to evacuate Malta. She wanted to find, and still seeks, some\n",
            "secret motive in our actions. What answer did Novosiltsev get? None.\n",
            "The English have not understood and cannot understand the\n",
            "self-abnegation of our Emperor who wants nothing for himself, but only\n",
            "desires the good of mankind. And what have they promised? Nothing! And\n",
            "what little they have promised they will not perform! Prussia has\n",
            "always declared that Buonaparte is invincible, and that all Europe\n",
            "is powerless before him.... And I don't believe a word that Hardenburg\n",
            "says, or Haugwitz either. This famous Prussian neutrality is just a\n",
            "trap. I have faith only in God and the lofty destiny of our adored\n",
            "monarch. He will save Europe!\n",
            "****************************************************************************************************\n",
            "I think,\n",
            "****************************************************************************************************\n",
            "that if you had been\n",
            "sent instead of our dear Wintzingerode you would have captured the\n",
            "King of Prussia's consent by assault. You are so eloquent. Will you\n",
            "give me a cup of tea?\n",
            "****************************************************************************************************\n",
            "In a moment. A propos,\n",
            "****************************************************************************************************\n",
            "I am\n",
            "expecting two very interesting men tonight, le Vicomte de Mortemart,\n",
            "who is connected with the Montmorencys through the Rohans, one of\n",
            "the best French families. He is one of the genuine emigres, the good\n",
            "ones. And also the Abbe Morio. Do you know that profound thinker? He\n",
            "has been received by the Emperor. Had you heard?\n",
            "****************************************************************************************************\n",
            "I shall be delighted to meet them,\n",
            "****************************************************************************************************\n",
            "But tell me,\n",
            "****************************************************************************************************\n",
            "is it true that the Dowager Empress wants Baron Funke\n",
            "to be appointed first secretary at Vienna? The baron by all accounts\n",
            "is a poor creature.\n",
            "****************************************************************************************************\n",
            "Baron Funke has been recommended to the Dowager Empress by her\n",
            "sister,\n",
            "****************************************************************************************************\n",
            "Now about your family. Do you know that since your daughter came\n",
            "out everyone has been enraptured by her? They say she is amazingly\n",
            "beautiful.\n",
            "****************************************************************************************************\n",
            "I often think,\n",
            "****************************************************************************************************\n",
            "I often think how unfairly sometimes the\n",
            "joys of life are distributed. Why has fate given you two such splendid\n",
            "children? I don't speak of Anatole, your youngest. I don't like\n",
            "him,\n",
            "****************************************************************************************************\n",
            "Two such charming children. And really you appreciate\n",
            "them less than anyone, and so you don't deserve to have them.\n",
            "****************************************************************************************************\n",
            "I can't help it,\n",
            "****************************************************************************************************\n",
            "Lavater would have said I\n",
            "lack the bump of paternity.\n",
            "****************************************************************************************************\n",
            "Don't joke; I mean to have a serious talk with you. Do you know I\n",
            "am dissatisfied with your younger son? Between ourselves\n",
            "****************************************************************************************************\n",
            "he was mentioned at Her\n",
            "Majesty's and you were pitied....\n",
            "****************************************************************************************************\n",
            "What would you have me do?\n",
            "****************************************************************************************************\n",
            "You know I did all\n",
            "a father could for their education, and they have both turned out\n",
            "fools. Hippolyte is at least a quiet fool, but Anatole is an active\n",
            "one. That is the only difference between them.\n",
            "****************************************************************************************************\n",
            "And why are children born to such men as you? If you were not a\n",
            "father there would be nothing I could reproach you with,\n",
            "****************************************************************************************************\n",
            "I am your faithful slave and to you alone I can confess that my\n",
            "children are the bane of my life. It is the cross I have to bear. That\n",
            "is how I explain it to myself. It can't be helped!\n",
            "****************************************************************************************************\n"
          ]
        }
      ]
    },
    {
      "cell_type": "code",
      "source": [
        "green_txt=bsobj.find_all(\"span\",attrs={\"class\":\"green\"})"
      ],
      "metadata": {
        "id": "5qUzqlK7dNWL"
      },
      "execution_count": null,
      "outputs": []
    },
    {
      "cell_type": "code",
      "source": [
        "for msg in green_txt:\n",
        "  print(msg.text)\n",
        "  print(\"*\"*100)\n"
      ],
      "metadata": {
        "colab": {
          "base_uri": "https://localhost:8080/"
        },
        "id": "Aw9iHrYceBaw",
        "outputId": "455c8835-e07a-4b75-a8af-aac36c193cbd"
      },
      "execution_count": null,
      "outputs": [
        {
          "output_type": "stream",
          "name": "stdout",
          "text": [
            "Anna\n",
            "Pavlovna Scherer\n",
            "****************************************************************************************************\n",
            "Empress Marya\n",
            "Fedorovna\n",
            "****************************************************************************************************\n",
            "Prince Vasili Kuragin\n",
            "****************************************************************************************************\n",
            "Anna Pavlovna\n",
            "****************************************************************************************************\n",
            "St. Petersburg\n",
            "****************************************************************************************************\n",
            "the prince\n",
            "****************************************************************************************************\n",
            "Anna Pavlovna\n",
            "****************************************************************************************************\n",
            "Anna Pavlovna\n",
            "****************************************************************************************************\n",
            "the prince\n",
            "****************************************************************************************************\n",
            "the prince\n",
            "****************************************************************************************************\n",
            "the prince\n",
            "****************************************************************************************************\n",
            "Prince Vasili\n",
            "****************************************************************************************************\n",
            "Anna Pavlovna\n",
            "****************************************************************************************************\n",
            "Anna Pavlovna\n",
            "****************************************************************************************************\n",
            "the prince\n",
            "****************************************************************************************************\n",
            "Wintzingerode\n",
            "****************************************************************************************************\n",
            "King of Prussia\n",
            "****************************************************************************************************\n",
            "le Vicomte de Mortemart\n",
            "****************************************************************************************************\n",
            "Montmorencys\n",
            "****************************************************************************************************\n",
            "Rohans\n",
            "****************************************************************************************************\n",
            "Abbe Morio\n",
            "****************************************************************************************************\n",
            "the Emperor\n",
            "****************************************************************************************************\n",
            "the prince\n",
            "****************************************************************************************************\n",
            "Prince Vasili\n",
            "****************************************************************************************************\n",
            "Dowager Empress Marya Fedorovna\n",
            "****************************************************************************************************\n",
            "the baron\n",
            "****************************************************************************************************\n",
            "Anna Pavlovna\n",
            "****************************************************************************************************\n",
            "the Empress\n",
            "****************************************************************************************************\n",
            "the Empress\n",
            "****************************************************************************************************\n",
            "Anna Pavlovna's\n",
            "****************************************************************************************************\n",
            "Her Majesty\n",
            "****************************************************************************************************\n",
            "Baron\n",
            "Funke\n",
            "****************************************************************************************************\n",
            "The prince\n",
            "****************************************************************************************************\n",
            "Anna\n",
            "Pavlovna\n",
            "****************************************************************************************************\n",
            "the Empress\n",
            "****************************************************************************************************\n",
            "The prince\n",
            "****************************************************************************************************\n",
            "Anatole\n",
            "****************************************************************************************************\n",
            "the prince\n",
            "****************************************************************************************************\n",
            "The prince\n",
            "****************************************************************************************************\n",
            "Anna\n",
            "Pavlovna\n",
            "****************************************************************************************************\n",
            "Anna Pavlovna\n",
            "****************************************************************************************************\n"
          ]
        }
      ]
    },
    {
      "cell_type": "code",
      "source": [
        "res = requests.get(\"https://www.pythonscraping.com/pages/page3.html\")"
      ],
      "metadata": {
        "id": "8vKjfFwyeDQk"
      },
      "execution_count": null,
      "outputs": []
    },
    {
      "cell_type": "code",
      "source": [
        "bsobj = BeautifulSoup(res.content,'html.parser')"
      ],
      "metadata": {
        "id": "O4YA6F_ketRK"
      },
      "execution_count": null,
      "outputs": []
    },
    {
      "cell_type": "code",
      "source": [
        "raw_tabl = bsobj.find(\"table\",attrs={'id':'giftList'})"
      ],
      "metadata": {
        "id": "Y8KBCe7MeyQK"
      },
      "execution_count": null,
      "outputs": []
    },
    {
      "cell_type": "code",
      "source": [
        "raw_tabl"
      ],
      "metadata": {
        "colab": {
          "base_uri": "https://localhost:8080/"
        },
        "id": "S91v-IOyfLgX",
        "outputId": "ec4c93fb-0584-4cbc-dc55-78f483ea319e"
      },
      "execution_count": null,
      "outputs": [
        {
          "output_type": "execute_result",
          "data": {
            "text/plain": [
              "<table id=\"giftList\">\n",
              "<tr><th>\n",
              "Item Title\n",
              "</th><th>\n",
              "Description\n",
              "</th><th>\n",
              "Cost\n",
              "</th><th>\n",
              "Image\n",
              "</th></tr>\n",
              "<tr class=\"gift\" id=\"gift1\"><td>\n",
              "Vegetable Basket\n",
              "</td><td>\n",
              "This vegetable basket is the perfect gift for your health conscious (or overweight) friends!\n",
              "<span class=\"excitingNote\">Now with super-colorful bell peppers!</span>\n",
              "</td><td>\n",
              "$15.00\n",
              "</td><td>\n",
              "<img src=\"../img/gifts/img1.jpg\"/>\n",
              "</td></tr>\n",
              "<tr class=\"gift\" id=\"gift2\"><td>\n",
              "Russian Nesting Dolls\n",
              "</td><td>\n",
              "Hand-painted by trained monkeys, these exquisite dolls are priceless! And by \"priceless,\" we mean \"extremely expensive\"! <span class=\"excitingNote\">8 entire dolls per set! Octuple the presents!</span>\n",
              "</td><td>\n",
              "$10,000.52\n",
              "</td><td>\n",
              "<img src=\"../img/gifts/img2.jpg\"/>\n",
              "</td></tr>\n",
              "<tr class=\"gift\" id=\"gift3\"><td>\n",
              "Fish Painting\n",
              "</td><td>\n",
              "If something seems fishy about this painting, it's because it's a fish! <span class=\"excitingNote\">Also hand-painted by trained monkeys!</span>\n",
              "</td><td>\n",
              "$10,005.00\n",
              "</td><td>\n",
              "<img src=\"../img/gifts/img3.jpg\"/>\n",
              "</td></tr>\n",
              "<tr class=\"gift\" id=\"gift4\"><td>\n",
              "Dead Parrot\n",
              "</td><td>\n",
              "This is an ex-parrot! <span class=\"excitingNote\">Or maybe he's only resting?</span>\n",
              "</td><td>\n",
              "$0.50\n",
              "</td><td>\n",
              "<img src=\"../img/gifts/img4.jpg\"/>\n",
              "</td></tr>\n",
              "<tr class=\"gift\" id=\"gift5\"><td>\n",
              "Mystery Box\n",
              "</td><td>\n",
              "If you love suprises, this mystery box is for you! Do not place on light-colored surfaces. May cause oil staining. <span class=\"excitingNote\">Keep your friends guessing!</span>\n",
              "</td><td>\n",
              "$1.50\n",
              "</td><td>\n",
              "<img src=\"../img/gifts/img6.jpg\"/>\n",
              "</td></tr>\n",
              "</table>"
            ]
          },
          "metadata": {},
          "execution_count": 30
        }
      ]
    },
    {
      "cell_type": "code",
      "source": [
        "# data = []\n",
        "# for row in list(raw_tabl.children)[3:]:\n",
        "#   if(row!='\\n'):\n",
        "#     td = row.find_all(\"td\")\n",
        "#     print(td)\n",
        "#     print(\"*\"*100)"
      ],
      "metadata": {
        "id": "wVVueaTYfNbF"
      },
      "execution_count": null,
      "outputs": []
    },
    {
      "cell_type": "code",
      "source": [
        "data = []\n",
        "for row in list(raw_tabl.children)[3:]:\n",
        "  if(row!='\\n'):\n",
        "    d = row.find_all(\"td\")\n",
        "    data.append([d[0].text.strip(),d[1].text.strip(),d[2].text.strip(),d[3].find('img')[\"src\"].strip()])"
      ],
      "metadata": {
        "id": "wT5VE1lAgkqV"
      },
      "execution_count": null,
      "outputs": []
    },
    {
      "cell_type": "code",
      "source": [
        "data[0]"
      ],
      "metadata": {
        "colab": {
          "base_uri": "https://localhost:8080/"
        },
        "id": "Dwy_s2sVi0O0",
        "outputId": "27624590-55a1-458d-e8ea-5987e0aeb9f4"
      },
      "execution_count": null,
      "outputs": [
        {
          "output_type": "execute_result",
          "data": {
            "text/plain": [
              "['Vegetable Basket',\n",
              " 'This vegetable basket is the perfect gift for your health conscious (or overweight) friends!\\nNow with super-colorful bell peppers!',\n",
              " '$15.00',\n",
              " '../img/gifts/img1.jpg']"
            ]
          },
          "metadata": {},
          "execution_count": 63
        }
      ]
    },
    {
      "cell_type": "code",
      "source": [
        "print(data)"
      ],
      "metadata": {
        "colab": {
          "base_uri": "https://localhost:8080/"
        },
        "id": "faxInKoLlkNt",
        "outputId": "befb6334-bab4-42e1-b326-e65a8da774fc"
      },
      "execution_count": null,
      "outputs": [
        {
          "output_type": "stream",
          "name": "stdout",
          "text": [
            "[['Vegetable Basket', 'This vegetable basket is the perfect gift for your health conscious (or overweight) friends!\\nNow with super-colorful bell peppers!', '$15.00', '../img/gifts/img1.jpg'], ['Russian Nesting Dolls', 'Hand-painted by trained monkeys, these exquisite dolls are priceless! And by \"priceless,\" we mean \"extremely expensive\"! 8 entire dolls per set! Octuple the presents!', '$10,000.52', '../img/gifts/img2.jpg'], ['Fish Painting', \"If something seems fishy about this painting, it's because it's a fish! Also hand-painted by trained monkeys!\", '$10,005.00', '../img/gifts/img3.jpg'], ['Dead Parrot', \"This is an ex-parrot! Or maybe he's only resting?\", '$0.50', '../img/gifts/img4.jpg'], ['Mystery Box', 'If you love suprises, this mystery box is for you! Do not place on light-colored surfaces. May cause oil staining. Keep your friends guessing!', '$1.50', '../img/gifts/img6.jpg']]\n"
          ]
        }
      ]
    },
    {
      "cell_type": "code",
      "source": [
        "len(data)"
      ],
      "metadata": {
        "colab": {
          "base_uri": "https://localhost:8080/"
        },
        "id": "nbbfM8hkly4F",
        "outputId": "e41c6536-a4fb-4f5f-8ef9-7c81bf26ec33"
      },
      "execution_count": null,
      "outputs": [
        {
          "output_type": "execute_result",
          "data": {
            "text/plain": [
              "5"
            ]
          },
          "metadata": {},
          "execution_count": 65
        }
      ]
    },
    {
      "cell_type": "markdown",
      "source": [
        "file handling in python"
      ],
      "metadata": {
        "id": "tMQ22eQDmKli"
      }
    },
    {
      "cell_type": "code",
      "source": [
        "f = open(\"test.txt\",\"w\")"
      ],
      "metadata": {
        "id": "EZJFm1N9l0ny"
      },
      "execution_count": null,
      "outputs": []
    },
    {
      "cell_type": "code",
      "source": [
        "f.write(\"hello world\\n\")\n",
        "f.write(\"thank you\\n\")\n",
        "f.write('welcome!!')"
      ],
      "metadata": {
        "colab": {
          "base_uri": "https://localhost:8080/"
        },
        "id": "6cOoHNyNmxOg",
        "outputId": "ec5b2a7f-d365-4d7a-dcbb-dbfe1a012150"
      },
      "execution_count": null,
      "outputs": [
        {
          "output_type": "execute_result",
          "data": {
            "text/plain": [
              "9"
            ]
          },
          "metadata": {},
          "execution_count": 68
        }
      ]
    },
    {
      "cell_type": "code",
      "source": [
        "f.close()"
      ],
      "metadata": {
        "id": "q-9r9ZqCnIuK"
      },
      "execution_count": null,
      "outputs": []
    },
    {
      "cell_type": "code",
      "source": [
        "f = open(\"test.txt\",\"r\")"
      ],
      "metadata": {
        "id": "DqBsWej8nL_k"
      },
      "execution_count": null,
      "outputs": []
    },
    {
      "cell_type": "code",
      "source": [
        "lines = f.read()"
      ],
      "metadata": {
        "id": "hCKpZjhanV2E"
      },
      "execution_count": null,
      "outputs": []
    },
    {
      "cell_type": "code",
      "source": [
        "lines"
      ],
      "metadata": {
        "colab": {
          "base_uri": "https://localhost:8080/",
          "height": 35
        },
        "id": "77Hl7RBInbWJ",
        "outputId": "6840eaed-fbef-425d-8aea-c5ad9f22a295"
      },
      "execution_count": null,
      "outputs": [
        {
          "output_type": "execute_result",
          "data": {
            "text/plain": [
              "'hello world\\nthank you\\nwelcome!!'"
            ],
            "application/vnd.google.colaboratory.intrinsic+json": {
              "type": "string"
            }
          },
          "metadata": {},
          "execution_count": 72
        }
      ]
    },
    {
      "cell_type": "code",
      "source": [
        "lines = f.read()"
      ],
      "metadata": {
        "id": "KIVmDlGDncTj"
      },
      "execution_count": null,
      "outputs": []
    },
    {
      "cell_type": "code",
      "source": [
        "lines"
      ],
      "metadata": {
        "colab": {
          "base_uri": "https://localhost:8080/",
          "height": 35
        },
        "id": "UI5_zWqlng4T",
        "outputId": "d47963f9-425c-4fb6-8a41-562207c9de2d"
      },
      "execution_count": null,
      "outputs": [
        {
          "output_type": "execute_result",
          "data": {
            "text/plain": [
              "''"
            ],
            "application/vnd.google.colaboratory.intrinsic+json": {
              "type": "string"
            }
          },
          "metadata": {},
          "execution_count": 74
        }
      ]
    },
    {
      "cell_type": "code",
      "source": [
        "f.seek(0,0) # reposition the cursor at begining"
      ],
      "metadata": {
        "colab": {
          "base_uri": "https://localhost:8080/"
        },
        "id": "pnKb3d_hnhrd",
        "outputId": "049e5396-e9ea-4de7-8222-fa3be7a51ec7"
      },
      "execution_count": null,
      "outputs": [
        {
          "output_type": "execute_result",
          "data": {
            "text/plain": [
              "0"
            ]
          },
          "metadata": {},
          "execution_count": 78
        }
      ]
    },
    {
      "cell_type": "code",
      "source": [
        "lines = f.read()"
      ],
      "metadata": {
        "id": "2rP93d28nllu"
      },
      "execution_count": null,
      "outputs": []
    },
    {
      "cell_type": "code",
      "source": [
        "lines"
      ],
      "metadata": {
        "colab": {
          "base_uri": "https://localhost:8080/",
          "height": 35
        },
        "id": "AO4gMq5enoAu",
        "outputId": "c8c76c46-5ad0-4fe4-b061-360411df5dc7"
      },
      "execution_count": null,
      "outputs": [
        {
          "output_type": "execute_result",
          "data": {
            "text/plain": [
              "'hello world\\nthank you\\nwelcome!!'"
            ],
            "application/vnd.google.colaboratory.intrinsic+json": {
              "type": "string"
            }
          },
          "metadata": {},
          "execution_count": 77
        }
      ]
    },
    {
      "cell_type": "code",
      "source": [
        "f.close()"
      ],
      "metadata": {
        "id": "2YmKT1CJoM83"
      },
      "execution_count": null,
      "outputs": []
    },
    {
      "cell_type": "code",
      "source": [
        "import csv"
      ],
      "metadata": {
        "id": "73-5knA3noyz"
      },
      "execution_count": null,
      "outputs": []
    },
    {
      "cell_type": "code",
      "source": [
        "with open(\"data.csv\",\"w\") as f:\n",
        "  writer = csv.writer(f)\n",
        "  writer.writerow([\"Title\",\"Description\",\"Cost\",\"image url\"])\n",
        "  writer.writerows(data)"
      ],
      "metadata": {
        "id": "-1923YLroH-X"
      },
      "execution_count": null,
      "outputs": []
    },
    {
      "cell_type": "code",
      "source": [
        ""
      ],
      "metadata": {
        "id": "N-pNXcSEoZfJ"
      },
      "execution_count": null,
      "outputs": []
    }
  ]
}