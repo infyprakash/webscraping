{
  "nbformat": 4,
  "nbformat_minor": 0,
  "metadata": {
    "colab": {
      "name": "Web Scraping advanced- day 2.ipynb",
      "provenance": []
    },
    "kernelspec": {
      "name": "python3",
      "display_name": "Python 3"
    },
    "language_info": {
      "name": "python"
    }
  },
  "cells": [
    {
      "cell_type": "code",
      "execution_count": null,
      "metadata": {
        "id": "AGn2dPZZw_hB"
      },
      "outputs": [],
      "source": [
        "import requests\n",
        "from bs4 import BeautifulSoup"
      ]
    },
    {
      "cell_type": "code",
      "source": [
        "html_doc = \"\"\"\n",
        "<!DOCTYPE html>\n",
        "<html>\n",
        "<head>\n",
        "<style>\n",
        "table {\n",
        "  font-family: arial, sans-serif;\n",
        "  border-collapse: collapse;\n",
        "  width: 100%;\n",
        "}\n",
        "\n",
        "td, th {\n",
        "  border: 1px solid #dddddd;\n",
        "  text-align: left;\n",
        "  padding: 8px;\n",
        "}\n",
        "\n",
        "tr:nth-child(even) {\n",
        "  background-color: #dddddd;\n",
        "}\n",
        "</style>\n",
        "</head>\n",
        "<body>\n",
        "\n",
        "<h2>HTML Table</h2>\n",
        "\n",
        "<table>\n",
        "  <tr>\n",
        "    <th>Company</th>\n",
        "    <th>Contact</th>\n",
        "    <th>Country</th>\n",
        "  </tr>\n",
        "  <tr>\n",
        "    <td>Alfreds Futterkiste</td>\n",
        "    <td>Maria Anders</td>\n",
        "    <td>Germany</td>\n",
        "  </tr>\n",
        "  <tr>\n",
        "    <td>Centro comercial Moctezuma</td>\n",
        "    <td>Francisco Chang</td>\n",
        "    <td>Mexico</td>\n",
        "  </tr>\n",
        "  <tr>\n",
        "    <td>Ernst Handel</td>\n",
        "    <td>Roland Mendel</td>\n",
        "    <td>Austria</td>\n",
        "  </tr>\n",
        "  <tr>\n",
        "    <td>Island Trading</td>\n",
        "    <td>Helen Bennett</td>\n",
        "    <td>UK</td>\n",
        "  </tr>\n",
        "  <tr>\n",
        "    <td>Laughing Bacchus Winecellars</td>\n",
        "    <td>Yoshi Tannamuri</td>\n",
        "    <td>Canada</td>\n",
        "  </tr>\n",
        "  <tr>\n",
        "    <td>Magazzini Alimentari Riuniti</td>\n",
        "    <td>Giovanni Rovelli</td>\n",
        "    <td>Italy</td>\n",
        "  </tr>\n",
        "</table>\n",
        "\n",
        "</body>\n",
        "</html>\n",
        "\n",
        "\n",
        "\"\"\""
      ],
      "metadata": {
        "id": "lXGCdq9zzoL4"
      },
      "execution_count": null,
      "outputs": []
    },
    {
      "cell_type": "code",
      "source": [
        "soup = BeautifulSoup(html_doc,\"html.parser\")"
      ],
      "metadata": {
        "id": "n_5a7Qf9z1IW"
      },
      "execution_count": null,
      "outputs": []
    },
    {
      "cell_type": "code",
      "source": [
        "table_data = soup.find(\"table\")"
      ],
      "metadata": {
        "id": "dc6q8lcSz89b"
      },
      "execution_count": null,
      "outputs": []
    },
    {
      "cell_type": "code",
      "source": [
        "table_data"
      ],
      "metadata": {
        "colab": {
          "base_uri": "https://localhost:8080/"
        },
        "id": "bQK3FPr-0GkP",
        "outputId": "b479761d-e658-472c-bb69-e5077d7fd545"
      },
      "execution_count": null,
      "outputs": [
        {
          "output_type": "execute_result",
          "data": {
            "text/plain": [
              "<table>\n",
              "<tr>\n",
              "<th>Company</th>\n",
              "<th>Contact</th>\n",
              "<th>Country</th>\n",
              "</tr>\n",
              "<tr>\n",
              "<td>Alfreds Futterkiste</td>\n",
              "<td>Maria Anders</td>\n",
              "<td>Germany</td>\n",
              "</tr>\n",
              "<tr>\n",
              "<td>Centro comercial Moctezuma</td>\n",
              "<td>Francisco Chang</td>\n",
              "<td>Mexico</td>\n",
              "</tr>\n",
              "<tr>\n",
              "<td>Ernst Handel</td>\n",
              "<td>Roland Mendel</td>\n",
              "<td>Austria</td>\n",
              "</tr>\n",
              "<tr>\n",
              "<td>Island Trading</td>\n",
              "<td>Helen Bennett</td>\n",
              "<td>UK</td>\n",
              "</tr>\n",
              "<tr>\n",
              "<td>Laughing Bacchus Winecellars</td>\n",
              "<td>Yoshi Tannamuri</td>\n",
              "<td>Canada</td>\n",
              "</tr>\n",
              "<tr>\n",
              "<td>Magazzini Alimentari Riuniti</td>\n",
              "<td>Giovanni Rovelli</td>\n",
              "<td>Italy</td>\n",
              "</tr>\n",
              "</table>"
            ]
          },
          "metadata": {},
          "execution_count": 7
        }
      ]
    },
    {
      "cell_type": "code",
      "source": [
        "list(table_data.children)"
      ],
      "metadata": {
        "colab": {
          "base_uri": "https://localhost:8080/"
        },
        "id": "j53uk1BP0H8_",
        "outputId": "c5c79e83-0f69-4ec6-d4b7-b7458d8bd9a2"
      },
      "execution_count": null,
      "outputs": [
        {
          "output_type": "execute_result",
          "data": {
            "text/plain": [
              "['\\n', <tr>\n",
              " <th>Company</th>\n",
              " <th>Contact</th>\n",
              " <th>Country</th>\n",
              " </tr>, '\\n', <tr>\n",
              " <td>Alfreds Futterkiste</td>\n",
              " <td>Maria Anders</td>\n",
              " <td>Germany</td>\n",
              " </tr>, '\\n', <tr>\n",
              " <td>Centro comercial Moctezuma</td>\n",
              " <td>Francisco Chang</td>\n",
              " <td>Mexico</td>\n",
              " </tr>, '\\n', <tr>\n",
              " <td>Ernst Handel</td>\n",
              " <td>Roland Mendel</td>\n",
              " <td>Austria</td>\n",
              " </tr>, '\\n', <tr>\n",
              " <td>Island Trading</td>\n",
              " <td>Helen Bennett</td>\n",
              " <td>UK</td>\n",
              " </tr>, '\\n', <tr>\n",
              " <td>Laughing Bacchus Winecellars</td>\n",
              " <td>Yoshi Tannamuri</td>\n",
              " <td>Canada</td>\n",
              " </tr>, '\\n', <tr>\n",
              " <td>Magazzini Alimentari Riuniti</td>\n",
              " <td>Giovanni Rovelli</td>\n",
              " <td>Italy</td>\n",
              " </tr>, '\\n']"
            ]
          },
          "metadata": {},
          "execution_count": 14
        }
      ]
    },
    {
      "cell_type": "code",
      "source": [
        "list_data = []\n",
        "for trs in table_data.children:\n",
        "  if (trs=='\\n'):\n",
        "    continue  #skip '\\n' in the list\n",
        "  else:\n",
        "    data = trs.find_all(\"td\")\n",
        "    temp = []\n",
        "    for i in data:\n",
        "      temp.append(i.text)\n",
        "    list_data.append(temp)"
      ],
      "metadata": {
        "id": "nP5Oqq9n0c52"
      },
      "execution_count": null,
      "outputs": []
    },
    {
      "cell_type": "code",
      "source": [
        "master = []\n",
        "for row in table_data.children:\n",
        "  if(row=='\\n'):\n",
        "    continue\n",
        "  else:\n",
        "    # print(row)\n",
        "    data = row.find_all('td')\n",
        "    temp = []\n",
        "    if data: # check whether the list is empty\n",
        "      for i in data:\n",
        "        temp.append(i.text)\n",
        "      master.append(temp)"
      ],
      "metadata": {
        "id": "2N9QuU2DAuyf"
      },
      "execution_count": null,
      "outputs": []
    },
    {
      "cell_type": "code",
      "source": [
        "master"
      ],
      "metadata": {
        "colab": {
          "base_uri": "https://localhost:8080/"
        },
        "id": "QYj4VD_pBBpt",
        "outputId": "945fefe5-cc1d-44db-9844-72fbb342f0eb"
      },
      "execution_count": null,
      "outputs": [
        {
          "output_type": "execute_result",
          "data": {
            "text/plain": [
              "[['Alfreds Futterkiste', 'Maria Anders', 'Germany'],\n",
              " ['Centro comercial Moctezuma', 'Francisco Chang', 'Mexico'],\n",
              " ['Ernst Handel', 'Roland Mendel', 'Austria'],\n",
              " ['Island Trading', 'Helen Bennett', 'UK'],\n",
              " ['Laughing Bacchus Winecellars', 'Yoshi Tannamuri', 'Canada'],\n",
              " ['Magazzini Alimentari Riuniti', 'Giovanni Rovelli', 'Italy']]"
            ]
          },
          "metadata": {},
          "execution_count": 47
        }
      ]
    },
    {
      "cell_type": "code",
      "source": [
        "master[0]"
      ],
      "metadata": {
        "colab": {
          "base_uri": "https://localhost:8080/"
        },
        "id": "OJW923y_Blg5",
        "outputId": "e8e7e19e-fad7-4b30-a551-8662c0702836"
      },
      "execution_count": null,
      "outputs": [
        {
          "output_type": "execute_result",
          "data": {
            "text/plain": [
              "['Alfreds Futterkiste', 'Maria Anders', 'Germany']"
            ]
          },
          "metadata": {},
          "execution_count": 48
        }
      ]
    },
    {
      "cell_type": "code",
      "source": [
        "master[1]"
      ],
      "metadata": {
        "colab": {
          "base_uri": "https://localhost:8080/"
        },
        "id": "d3xw_cilBn8Z",
        "outputId": "e336c26f-3549-4add-b85c-cd405eebcd23"
      },
      "execution_count": null,
      "outputs": [
        {
          "output_type": "execute_result",
          "data": {
            "text/plain": [
              "['Centro comercial Moctezuma', 'Francisco Chang', 'Mexico']"
            ]
          },
          "metadata": {},
          "execution_count": 49
        }
      ]
    },
    {
      "cell_type": "code",
      "source": [
        "l = [10]\n",
        "if l:\n",
        "  print('hello')"
      ],
      "metadata": {
        "colab": {
          "base_uri": "https://localhost:8080/"
        },
        "id": "KLR6te8BCgr2",
        "outputId": "a977c834-4634-4618-bca8-4c1757c7840f"
      },
      "execution_count": null,
      "outputs": [
        {
          "output_type": "stream",
          "name": "stdout",
          "text": [
            "hello\n"
          ]
        }
      ]
    },
    {
      "cell_type": "code",
      "source": [
        ""
      ],
      "metadata": {
        "id": "_4Uu1PFgCu27"
      },
      "execution_count": null,
      "outputs": []
    }
  ]
}