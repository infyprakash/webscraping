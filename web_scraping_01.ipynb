{
  "nbformat": 4,
  "nbformat_minor": 0,
  "metadata": {
    "colab": {
      "name": "web scraping -01.ipynb",
      "provenance": []
    },
    "kernelspec": {
      "name": "python3",
      "display_name": "Python 3"
    },
    "language_info": {
      "name": "python"
    }
  },
  "cells": [
    {
      "cell_type": "code",
      "execution_count": null,
      "metadata": {
        "id": "I3GUKxw9YUuD"
      },
      "outputs": [],
      "source": [
        "html_doc = \"\"\"<!DOCTYPE html>\n",
        "<html>\n",
        "\n",
        "<head>\n",
        "<title>my web</title>\n",
        "</head>\n",
        "\n",
        "<body>\n",
        "<h1> My First web page</h1>\n",
        "\n",
        "<h2>Introduction</h2>\n",
        "\n",
        "<p> This is my first website. I will share my experiences here. </p>\n",
        "\n",
        "<a href=\"https://www.facebook.com/InfographyTechnologies\">facebook page</a>\n",
        "\n",
        "</body>\n",
        "\n",
        "</html>\"\"\""
      ]
    },
    {
      "cell_type": "code",
      "source": [
        "print(html_doc)"
      ],
      "metadata": {
        "colab": {
          "base_uri": "https://localhost:8080/"
        },
        "id": "DFrnDgy8YzSS",
        "outputId": "2b980856-96ae-4eda-ff44-e8b4a955c4b3"
      },
      "execution_count": null,
      "outputs": [
        {
          "output_type": "stream",
          "name": "stdout",
          "text": [
            "<!DOCTYPE html>\n",
            "<html>\n",
            "\n",
            "<head>\n",
            "<title>my web</title>\n",
            "</head>\n",
            "\n",
            "<body>\n",
            "<h1> My First web page</h1>\n",
            "\n",
            "<h2>Introduction</h2>\n",
            "\n",
            "<p> This is my first website. I will share my experiences here. </p>\n",
            "\n",
            "<a href=\"https://www.facebook.com/InfographyTechnologies\">facebook page</a>\n",
            "\n",
            "</body>\n",
            "\n",
            "</html>\n"
          ]
        }
      ]
    },
    {
      "cell_type": "code",
      "source": [
        "type(html_doc)"
      ],
      "metadata": {
        "colab": {
          "base_uri": "https://localhost:8080/"
        },
        "id": "uU6eMnxIY4Uf",
        "outputId": "86d4a84f-4e0a-423c-82ff-50447faf3370"
      },
      "execution_count": null,
      "outputs": [
        {
          "output_type": "execute_result",
          "data": {
            "text/plain": [
              "str"
            ]
          },
          "metadata": {},
          "execution_count": 4
        }
      ]
    },
    {
      "cell_type": "code",
      "source": [
        "html_doc[0]"
      ],
      "metadata": {
        "colab": {
          "base_uri": "https://localhost:8080/",
          "height": 36
        },
        "id": "ZFxRttr6Y9Gf",
        "outputId": "5132453d-a8f4-44f7-cbae-62232cabd7fa"
      },
      "execution_count": null,
      "outputs": [
        {
          "output_type": "execute_result",
          "data": {
            "application/vnd.google.colaboratory.intrinsic+json": {
              "type": "string"
            },
            "text/plain": [
              "'<'"
            ]
          },
          "metadata": {},
          "execution_count": 5
        }
      ]
    },
    {
      "cell_type": "code",
      "source": [
        "from bs4 import BeautifulSoup"
      ],
      "metadata": {
        "id": "sX8UgE1uZPFn"
      },
      "execution_count": null,
      "outputs": []
    },
    {
      "cell_type": "code",
      "source": [
        "# create bs-object from python string\n",
        "\n",
        "bsobj = BeautifulSoup(html_doc,\"html.parser\")"
      ],
      "metadata": {
        "id": "k1R7Su79Z3oG"
      },
      "execution_count": null,
      "outputs": []
    },
    {
      "cell_type": "code",
      "source": [
        "type(bsobj)"
      ],
      "metadata": {
        "colab": {
          "base_uri": "https://localhost:8080/"
        },
        "id": "de5vzCxjaIGy",
        "outputId": "a85fad6d-1d7e-4213-f160-ec789c19578b"
      },
      "execution_count": null,
      "outputs": [
        {
          "output_type": "execute_result",
          "data": {
            "text/plain": [
              "bs4.BeautifulSoup"
            ]
          },
          "metadata": {},
          "execution_count": 9
        }
      ]
    },
    {
      "cell_type": "code",
      "source": [
        "bsobj"
      ],
      "metadata": {
        "colab": {
          "base_uri": "https://localhost:8080/"
        },
        "id": "e5zn6qLdaP8U",
        "outputId": "20816fbe-79b2-48e4-fbdd-816d56609714"
      },
      "execution_count": null,
      "outputs": [
        {
          "output_type": "execute_result",
          "data": {
            "text/plain": [
              "<!DOCTYPE html>\n",
              "\n",
              "<html>\n",
              "<head>\n",
              "<title>my web</title>\n",
              "</head>\n",
              "<body>\n",
              "<h1> My First web page</h1>\n",
              "<h2>Introduction</h2>\n",
              "<p> This is my first website. I will share my experiences here. </p>\n",
              "<a href=\"https://www.facebook.com/InfographyTechnologies\">facebook page</a>\n",
              "</body>\n",
              "</html>"
            ]
          },
          "metadata": {},
          "execution_count": 10
        }
      ]
    },
    {
      "cell_type": "code",
      "source": [
        "bsobj.title.text"
      ],
      "metadata": {
        "colab": {
          "base_uri": "https://localhost:8080/",
          "height": 36
        },
        "id": "Uy0SmyOMaYKU",
        "outputId": "1bb93bf8-8ae9-45cd-eb85-1e39d3544c49"
      },
      "execution_count": null,
      "outputs": [
        {
          "output_type": "execute_result",
          "data": {
            "application/vnd.google.colaboratory.intrinsic+json": {
              "type": "string"
            },
            "text/plain": [
              "'my web'"
            ]
          },
          "metadata": {},
          "execution_count": 16
        }
      ]
    },
    {
      "cell_type": "code",
      "source": [
        "bsobj.h1.text"
      ],
      "metadata": {
        "colab": {
          "base_uri": "https://localhost:8080/",
          "height": 36
        },
        "id": "ajsYImamafyQ",
        "outputId": "d035b836-7de8-48b1-a357-2b5c83a0cb3d"
      },
      "execution_count": null,
      "outputs": [
        {
          "output_type": "execute_result",
          "data": {
            "application/vnd.google.colaboratory.intrinsic+json": {
              "type": "string"
            },
            "text/plain": [
              "' My First web page'"
            ]
          },
          "metadata": {},
          "execution_count": 17
        }
      ]
    },
    {
      "cell_type": "code",
      "source": [
        "bsobj.h2.text"
      ],
      "metadata": {
        "colab": {
          "base_uri": "https://localhost:8080/",
          "height": 36
        },
        "id": "YDRvweZHanTr",
        "outputId": "d5b0d7a5-7a01-4ffd-b4b0-9c8315e1fb11"
      },
      "execution_count": null,
      "outputs": [
        {
          "output_type": "execute_result",
          "data": {
            "application/vnd.google.colaboratory.intrinsic+json": {
              "type": "string"
            },
            "text/plain": [
              "'Introduction'"
            ]
          },
          "metadata": {},
          "execution_count": 18
        }
      ]
    },
    {
      "cell_type": "code",
      "source": [
        "bsobj.p.text"
      ],
      "metadata": {
        "colab": {
          "base_uri": "https://localhost:8080/",
          "height": 36
        },
        "id": "RDA4PkjNarr7",
        "outputId": "143a171c-e879-4cc6-8426-4183941c61bf"
      },
      "execution_count": null,
      "outputs": [
        {
          "output_type": "execute_result",
          "data": {
            "application/vnd.google.colaboratory.intrinsic+json": {
              "type": "string"
            },
            "text/plain": [
              "' This is my first website. I will share my experiences here. '"
            ]
          },
          "metadata": {},
          "execution_count": 19
        }
      ]
    },
    {
      "cell_type": "code",
      "source": [
        "bsobj.a.text"
      ],
      "metadata": {
        "colab": {
          "base_uri": "https://localhost:8080/",
          "height": 36
        },
        "id": "zx9uk1c8buTq",
        "outputId": "8e169c0e-77c8-4964-a690-023d66cd132f"
      },
      "execution_count": null,
      "outputs": [
        {
          "output_type": "execute_result",
          "data": {
            "application/vnd.google.colaboratory.intrinsic+json": {
              "type": "string"
            },
            "text/plain": [
              "'facebook page'"
            ]
          },
          "metadata": {},
          "execution_count": 20
        }
      ]
    },
    {
      "cell_type": "code",
      "source": [
        "bsobj.a['href']"
      ],
      "metadata": {
        "colab": {
          "base_uri": "https://localhost:8080/",
          "height": 36
        },
        "id": "QFzMmGV9bxqh",
        "outputId": "58f49f54-ced3-4499-fc57-2c193357a435"
      },
      "execution_count": null,
      "outputs": [
        {
          "output_type": "execute_result",
          "data": {
            "application/vnd.google.colaboratory.intrinsic+json": {
              "type": "string"
            },
            "text/plain": [
              "'https://www.facebook.com/InfographyTechnologies'"
            ]
          },
          "metadata": {},
          "execution_count": 22
        }
      ]
    },
    {
      "cell_type": "code",
      "source": [
        "bsobj.a"
      ],
      "metadata": {
        "colab": {
          "base_uri": "https://localhost:8080/"
        },
        "id": "1BgOpMH6cID7",
        "outputId": "80f74f49-688f-4567-eb12-086484218a19"
      },
      "execution_count": null,
      "outputs": [
        {
          "output_type": "execute_result",
          "data": {
            "text/plain": [
              "<a href=\"https://www.facebook.com/InfographyTechnologies\">facebook page</a>"
            ]
          },
          "metadata": {},
          "execution_count": 24
        }
      ]
    },
    {
      "cell_type": "code",
      "source": [
        "html_str = \"\"\" \n",
        "<!DOCTYPE html>\n",
        "<html>\n",
        "<head>\n",
        "\t<title>my resume</title>\n",
        "</head>\n",
        "\n",
        "<body>\n",
        "\n",
        "<h2>Introduction</h2>\n",
        "<p>Hello I am Prakash Chandra. I have completed my Masters in Computer Engineering.</p>\n",
        "<p>Following are my technical skills: </p>\n",
        "\n",
        "<ul>\n",
        "\t<li>HTML</li>\n",
        "\t<li>JS</li>\n",
        "\t<li>JAVA</li>\n",
        "</ul>\n",
        "\n",
        "<p> You can find me on: </p>\n",
        "<a href=\"https://www.facebook.com/InfographyTechnologies\">Facebook</a>\n",
        "<a href=\"https://www.google.com/\">Google</a>\n",
        "\n",
        "</body>\n",
        "\n",
        "</html>\n",
        "\"\"\""
      ],
      "metadata": {
        "id": "-sIR5o5fcRy5"
      },
      "execution_count": null,
      "outputs": []
    },
    {
      "cell_type": "code",
      "source": [
        "soup = BeautifulSoup(html_str,\"html.parser\")"
      ],
      "metadata": {
        "id": "kyhSDYSUhPpG"
      },
      "execution_count": null,
      "outputs": []
    },
    {
      "cell_type": "code",
      "source": [
        "print(soup.prettify())"
      ],
      "metadata": {
        "colab": {
          "base_uri": "https://localhost:8080/"
        },
        "id": "N4zMgWX7hYJE",
        "outputId": "81b5a25f-45ec-46a2-b95b-eeff596ca09c"
      },
      "execution_count": null,
      "outputs": [
        {
          "output_type": "stream",
          "name": "stdout",
          "text": [
            "<!DOCTYPE html>\n",
            "<html>\n",
            " <head>\n",
            "  <title>\n",
            "   my resume\n",
            "  </title>\n",
            " </head>\n",
            " <body>\n",
            "  <h2>\n",
            "   Introduction\n",
            "  </h2>\n",
            "  <p>\n",
            "   Hello I am Prakash Chandra. I have completed my Masters in Computer Engineering.\n",
            "  </p>\n",
            "  <p>\n",
            "   Following are my technical skills:\n",
            "  </p>\n",
            "  <ul>\n",
            "   <li>\n",
            "    HTML\n",
            "   </li>\n",
            "   <li>\n",
            "    JS\n",
            "   </li>\n",
            "   <li>\n",
            "    JAVA\n",
            "   </li>\n",
            "  </ul>\n",
            "  <p>\n",
            "   You can find me on:\n",
            "  </p>\n",
            "  <a href=\"https://www.facebook.com/InfographyTechnologies\">\n",
            "   Facebook\n",
            "  </a>\n",
            "  <a href=\"https://www.google.com/\">\n",
            "   Google\n",
            "  </a>\n",
            " </body>\n",
            "</html>\n",
            "\n"
          ]
        }
      ]
    },
    {
      "cell_type": "code",
      "source": [
        "soup.title.text"
      ],
      "metadata": {
        "colab": {
          "base_uri": "https://localhost:8080/",
          "height": 36
        },
        "id": "76RCwZ6Zhcbi",
        "outputId": "526c4172-5445-4959-8b91-efe2012ba30b"
      },
      "execution_count": null,
      "outputs": [
        {
          "output_type": "execute_result",
          "data": {
            "application/vnd.google.colaboratory.intrinsic+json": {
              "type": "string"
            },
            "text/plain": [
              "'my resume'"
            ]
          },
          "metadata": {},
          "execution_count": 29
        }
      ]
    },
    {
      "cell_type": "code",
      "source": [
        "soup.h2.text"
      ],
      "metadata": {
        "colab": {
          "base_uri": "https://localhost:8080/",
          "height": 36
        },
        "id": "8l7rtj6uhlRI",
        "outputId": "d7fab32e-0b20-44df-9ef2-14d589194d20"
      },
      "execution_count": null,
      "outputs": [
        {
          "output_type": "execute_result",
          "data": {
            "application/vnd.google.colaboratory.intrinsic+json": {
              "type": "string"
            },
            "text/plain": [
              "'Introduction'"
            ]
          },
          "metadata": {},
          "execution_count": 30
        }
      ]
    },
    {
      "cell_type": "code",
      "source": [
        "soup.p.text"
      ],
      "metadata": {
        "colab": {
          "base_uri": "https://localhost:8080/",
          "height": 36
        },
        "id": "n8nj3TP9htcc",
        "outputId": "43c483da-bc69-4be1-b335-54d9c459d3d4"
      },
      "execution_count": null,
      "outputs": [
        {
          "output_type": "execute_result",
          "data": {
            "application/vnd.google.colaboratory.intrinsic+json": {
              "type": "string"
            },
            "text/plain": [
              "'Hello I am Prakash Chandra. I have completed my Masters in Computer Engineering.'"
            ]
          },
          "metadata": {},
          "execution_count": 31
        }
      ]
    },
    {
      "cell_type": "code",
      "source": [
        "soup.find_all(\"p\")"
      ],
      "metadata": {
        "colab": {
          "base_uri": "https://localhost:8080/"
        },
        "id": "p4S11PwIiq4M",
        "outputId": "9e9bb782-37d9-4be7-e69e-b5c73748a3cf"
      },
      "execution_count": null,
      "outputs": [
        {
          "output_type": "execute_result",
          "data": {
            "text/plain": [
              "[<p>Hello I am Prakash Chandra. I have completed my Masters in Computer Engineering.</p>,\n",
              " <p>Following are my technical skills: </p>,\n",
              " <p> You can find me on: </p>]"
            ]
          },
          "metadata": {},
          "execution_count": 32
        }
      ]
    },
    {
      "cell_type": "code",
      "source": [
        "p_tags = soup.find_all(\"p\")\n",
        "p_tags\n",
        "\n",
        "for i in p_tags:\n",
        "  print(i.getText())"
      ],
      "metadata": {
        "colab": {
          "base_uri": "https://localhost:8080/"
        },
        "id": "EHX0AZlxjV8P",
        "outputId": "bc002aa7-f552-4f02-b58a-653af30b5b53"
      },
      "execution_count": null,
      "outputs": [
        {
          "output_type": "stream",
          "name": "stdout",
          "text": [
            "Hello I am Prakash Chandra. I have completed my Masters in Computer Engineering.\n",
            "Following are my technical skills: \n",
            " You can find me on: \n"
          ]
        }
      ]
    },
    {
      "cell_type": "code",
      "source": [
        "for text in soup.find_all(\"p\"):\n",
        "  print(text.text)\n"
      ],
      "metadata": {
        "colab": {
          "base_uri": "https://localhost:8080/"
        },
        "id": "1btLFh8Ri7QK",
        "outputId": "904f84b9-2b9c-4275-fa2a-92ce363c28b5"
      },
      "execution_count": null,
      "outputs": [
        {
          "output_type": "stream",
          "name": "stdout",
          "text": [
            "Hello I am Prakash Chandra. I have completed my Masters in Computer Engineering.\n",
            "Following are my technical skills: \n",
            " You can find me on: \n"
          ]
        }
      ]
    },
    {
      "cell_type": "code",
      "source": [
        "skills = soup.find(\"ul\")"
      ],
      "metadata": {
        "id": "M-fHBeq3jOM9"
      },
      "execution_count": null,
      "outputs": []
    },
    {
      "cell_type": "code",
      "source": [
        "skills"
      ],
      "metadata": {
        "colab": {
          "base_uri": "https://localhost:8080/"
        },
        "id": "AiTUyT-akBYo",
        "outputId": "f275ec0f-4db7-4eb4-923c-6210fa56eecb"
      },
      "execution_count": null,
      "outputs": [
        {
          "output_type": "execute_result",
          "data": {
            "text/plain": [
              "<ul>\n",
              "<li>HTML</li>\n",
              "<li>JS</li>\n",
              "<li>JAVA</li>\n",
              "</ul>"
            ]
          },
          "metadata": {},
          "execution_count": 41
        }
      ]
    },
    {
      "cell_type": "code",
      "source": [
        "skills = skills.find_all(\"li\")"
      ],
      "metadata": {
        "id": "-USkBjNekKR4"
      },
      "execution_count": null,
      "outputs": []
    },
    {
      "cell_type": "code",
      "source": [
        "skills"
      ],
      "metadata": {
        "colab": {
          "base_uri": "https://localhost:8080/"
        },
        "id": "X30kAIGokYuf",
        "outputId": "3c568efd-7034-4170-c46e-9a2c22d65dcb"
      },
      "execution_count": null,
      "outputs": [
        {
          "output_type": "execute_result",
          "data": {
            "text/plain": [
              "[<li>HTML</li>, <li>JS</li>, <li>JAVA</li>]"
            ]
          },
          "metadata": {},
          "execution_count": 43
        }
      ]
    },
    {
      "cell_type": "code",
      "source": [
        "skillset = []\n",
        "\n",
        "for skill in skills:\n",
        "  # print(skill.text)\n",
        "  skillset.append(skill.text)\n"
      ],
      "metadata": {
        "id": "FeOxsNO-kZxC"
      },
      "execution_count": null,
      "outputs": []
    },
    {
      "cell_type": "code",
      "source": [
        "print(\"The skill set of probable candidate is: \",skillset)"
      ],
      "metadata": {
        "colab": {
          "base_uri": "https://localhost:8080/"
        },
        "id": "pb8HWIaikp4t",
        "outputId": "164fa10d-7cc9-41fc-c38d-3b32ff07ac28"
      },
      "execution_count": null,
      "outputs": [
        {
          "output_type": "stream",
          "name": "stdout",
          "text": [
            "The skill set of probable candidate is:  ['HTML', 'JS', 'JAVA']\n"
          ]
        }
      ]
    },
    {
      "cell_type": "code",
      "source": [
        "links = soup.find_all('a')"
      ],
      "metadata": {
        "id": "_U_v7lXpk7C5"
      },
      "execution_count": null,
      "outputs": []
    },
    {
      "cell_type": "code",
      "source": [
        "links"
      ],
      "metadata": {
        "colab": {
          "base_uri": "https://localhost:8080/"
        },
        "id": "60nESU4ilTMF",
        "outputId": "db87f16d-ddb6-4b2e-e734-3e6fa96689d7"
      },
      "execution_count": null,
      "outputs": [
        {
          "output_type": "execute_result",
          "data": {
            "text/plain": [
              "[<a href=\"https://www.facebook.com/InfographyTechnologies\">Facebook</a>,\n",
              " <a href=\"https://www.google.com/\">Google</a>]"
            ]
          },
          "metadata": {},
          "execution_count": 48
        }
      ]
    },
    {
      "cell_type": "code",
      "source": [
        "d = {}\n",
        "\n",
        "for link in links:\n",
        "  # print(link.text,link['href'])\n",
        "  d[link.text] = link['href']"
      ],
      "metadata": {
        "id": "xQMn-uxxlUIm"
      },
      "execution_count": null,
      "outputs": []
    },
    {
      "cell_type": "code",
      "source": [
        "d"
      ],
      "metadata": {
        "colab": {
          "base_uri": "https://localhost:8080/"
        },
        "id": "zGfOiMXplhuV",
        "outputId": "1952c1fe-cdca-42d0-a968-e6dfbe1b5aeb"
      },
      "execution_count": null,
      "outputs": [
        {
          "output_type": "execute_result",
          "data": {
            "text/plain": [
              "{'Facebook': 'https://www.facebook.com/InfographyTechnologies',\n",
              " 'Google': 'https://www.google.com/'}"
            ]
          },
          "metadata": {},
          "execution_count": 52
        }
      ]
    },
    {
      "cell_type": "code",
      "source": [
        "d.keys()"
      ],
      "metadata": {
        "colab": {
          "base_uri": "https://localhost:8080/"
        },
        "id": "43v9xHynl1Tc",
        "outputId": "f2b56c87-479a-410c-bb10-76b11492b175"
      },
      "execution_count": null,
      "outputs": [
        {
          "output_type": "execute_result",
          "data": {
            "text/plain": [
              "dict_keys(['Facebook', 'Google'])"
            ]
          },
          "metadata": {},
          "execution_count": 53
        }
      ]
    },
    {
      "cell_type": "code",
      "source": [
        "d.values()"
      ],
      "metadata": {
        "id": "0wKjcJaEl-8M",
        "outputId": "85c4cc70-487d-48e8-f65e-998a5bf991da",
        "colab": {
          "base_uri": "https://localhost:8080/"
        }
      },
      "execution_count": null,
      "outputs": [
        {
          "output_type": "execute_result",
          "data": {
            "text/plain": [
              "dict_values(['https://www.facebook.com/InfographyTechnologies', 'https://www.google.com/'])"
            ]
          },
          "metadata": {},
          "execution_count": 54
        }
      ]
    },
    {
      "cell_type": "code",
      "source": [
        "d.items()"
      ],
      "metadata": {
        "id": "FC2ncbqGmAm5",
        "outputId": "ab9e4a2c-392d-4335-9514-28328fb2cdd8",
        "colab": {
          "base_uri": "https://localhost:8080/"
        }
      },
      "execution_count": null,
      "outputs": [
        {
          "output_type": "execute_result",
          "data": {
            "text/plain": [
              "dict_items([('Facebook', 'https://www.facebook.com/InfographyTechnologies'), ('Google', 'https://www.google.com/')])"
            ]
          },
          "metadata": {},
          "execution_count": 55
        }
      ]
    },
    {
      "cell_type": "code",
      "source": [
        ""
      ],
      "metadata": {
        "id": "EV9I0dCTmCKS"
      },
      "execution_count": null,
      "outputs": []
    }
  ]
}